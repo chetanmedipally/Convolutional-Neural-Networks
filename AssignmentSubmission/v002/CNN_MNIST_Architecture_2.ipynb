{
  "nbformat": 4,
  "nbformat_minor": 0,
  "metadata": {
    "colab": {
      "name": "CNN_MNIST_Architecture_2.ipynb",
      "provenance": [],
      "collapsed_sections": []
    },
    "kernelspec": {
      "display_name": "Python 3",
      "language": "python",
      "name": "python3"
    },
    "language_info": {
      "codemirror_mode": {
        "name": "ipython",
        "version": 3
      },
      "file_extension": ".py",
      "mimetype": "text/x-python",
      "name": "python",
      "nbconvert_exporter": "python",
      "pygments_lexer": "ipython3",
      "version": "3.7.3"
    }
  },
  "cells": [
    {
      "cell_type": "code",
      "metadata": {
        "id": "0e0UxGGGCXml",
        "colab_type": "code",
        "outputId": "b9ac3135-8320-4b8f-9de1-5b129e6bae17",
        "colab": {
          "base_uri": "https://localhost:8080/",
          "height": 35
        }
      },
      "source": [
        "from __future__ import print_function\n",
        "import keras\n",
        "from keras.datasets import mnist\n",
        "from keras.models import Sequential\n",
        "from keras.layers import Dense, Dropout, Flatten\n",
        "from keras.layers import Conv2D, MaxPooling2D\n",
        "from keras import backend as K\n",
        "%matplotlib inline\n",
        "import matplotlib.pyplot as plt"
      ],
      "execution_count": 0,
      "outputs": [
        {
          "output_type": "stream",
          "text": [
            "Using TensorFlow backend.\n"
          ],
          "name": "stderr"
        }
      ]
    },
    {
      "cell_type": "code",
      "metadata": {
        "id": "L7yDFeWwCXuU",
        "colab_type": "code",
        "colab": {}
      },
      "source": [
        "batch_size = 128\n",
        "num_classes = 10\n",
        "epochs = 12\n",
        "\n",
        "# input image dimensions\n",
        "img_rows, img_cols = 28, 28"
      ],
      "execution_count": 0,
      "outputs": []
    },
    {
      "cell_type": "code",
      "metadata": {
        "id": "4i5pMYqmXah_",
        "colab_type": "code",
        "colab": {}
      },
      "source": [
        "def plt_dynamic(x, vy, ty, ax, colors=['b']):\n",
        "    ax.plot(x, vy, 'b', label=\"Validation Loss\")\n",
        "    ax.plot(x, ty, 'r', label=\"Train Loss\")\n",
        "    plt.legend()\n",
        "    plt.grid()\n",
        "    fig.canvas.draw()"
      ],
      "execution_count": 0,
      "outputs": []
    },
    {
      "cell_type": "code",
      "metadata": {
        "id": "0h5_OicwCX1T",
        "colab_type": "code",
        "outputId": "c9524a4d-8f90-47a8-f260-381bbceeb92d",
        "colab": {
          "base_uri": "https://localhost:8080/",
          "height": 52
        }
      },
      "source": [
        "# the data, split between train and test sets\n",
        "(x_train, y_train), (x_test, y_test) = mnist.load_data()\n",
        "\n",
        "if K.image_data_format() == 'channels_first':\n",
        "    x_train = x_train.reshape(x_train.shape[0], 1, img_rows, img_cols)\n",
        "    x_test = x_test.reshape(x_test.shape[0], 1, img_rows, img_cols)\n",
        "    input_shape = (1, img_rows, img_cols)\n",
        "else:\n",
        "    x_train = x_train.reshape(x_train.shape[0], img_rows, img_cols, 1)\n",
        "    x_test = x_test.reshape(x_test.shape[0], img_rows, img_cols, 1)\n",
        "    input_shape = (img_rows, img_cols, 1)"
      ],
      "execution_count": 0,
      "outputs": [
        {
          "output_type": "stream",
          "text": [
            "Downloading data from https://s3.amazonaws.com/img-datasets/mnist.npz\n",
            "11493376/11490434 [==============================] - 1s 0us/step\n"
          ],
          "name": "stdout"
        }
      ]
    },
    {
      "cell_type": "code",
      "metadata": {
        "id": "7KTuXhf6CX85",
        "colab_type": "code",
        "outputId": "125eeb04-0ed8-4916-8e1c-5e0f17faf920",
        "colab": {
          "base_uri": "https://localhost:8080/",
          "height": 69
        }
      },
      "source": [
        "x_train = x_train.astype('float32')\n",
        "x_test = x_test.astype('float32')\n",
        "x_train /= 255\n",
        "x_test /= 255\n",
        "print('x_train shape:', x_train.shape)\n",
        "print(x_train.shape[0], 'train samples')\n",
        "print(x_test.shape[0], 'test samples')"
      ],
      "execution_count": 0,
      "outputs": [
        {
          "output_type": "stream",
          "text": [
            "x_train shape: (60000, 28, 28, 1)\n",
            "60000 train samples\n",
            "10000 test samples\n"
          ],
          "name": "stdout"
        }
      ]
    },
    {
      "cell_type": "code",
      "metadata": {
        "id": "m4hjprOyCYEs",
        "colab_type": "code",
        "colab": {}
      },
      "source": [
        "# convert class vectors to binary class matrices\n",
        "y_train = keras.utils.to_categorical(y_train, num_classes)\n",
        "y_test = keras.utils.to_categorical(y_test, num_classes)"
      ],
      "execution_count": 0,
      "outputs": []
    },
    {
      "cell_type": "markdown",
      "metadata": {
        "id": "craZZjqxC0eD",
        "colab_type": "text"
      },
      "source": [
        "## Architecture 2 with 4 Convolution Layers 5x5 Kernal"
      ]
    },
    {
      "cell_type": "code",
      "metadata": {
        "id": "3vLTcZHCCYLt",
        "colab_type": "code",
        "outputId": "12230c7b-ed07-48b4-91ab-f23b099ff277",
        "colab": {
          "base_uri": "https://localhost:8080/",
          "height": 1000
        }
      },
      "source": [
        "model = Sequential()\n",
        "model.add(Conv2D(32, (5, 5), padding=\"same\", activation=\"relu\",input_shape=input_shape))\n",
        "model.add(Conv2D(64, (5, 5), padding=\"same\", activation=\"relu\"))\n",
        "model.add(MaxPooling2D(pool_size=(2, 2)))\n",
        "model.add(Conv2D(128, (5, 5), padding=\"same\", activation=\"relu\"))\n",
        "model.add(Conv2D(256, (5, 5), padding=\"same\", activation=\"relu\"))\n",
        "model.add(MaxPooling2D(pool_size=(2, 2)))\n",
        "model.add(Flatten())\n",
        "model.add(Dense(256, activation='relu'))\n",
        "model.add(Dense(num_classes, activation='softmax'))\n",
        "\n",
        "model.compile(loss=keras.losses.categorical_crossentropy,\n",
        "              optimizer=keras.optimizers.Adam(),\n",
        "              metrics=['accuracy'])\n",
        "\n",
        "history = model.fit(x_train, y_train,\n",
        "          batch_size=batch_size,\n",
        "          epochs=epochs,\n",
        "          verbose=1,\n",
        "          validation_data=(x_test, y_test))\n",
        "\n",
        "score = model.evaluate(x_test, y_test, verbose=0)\n",
        "print('Test loss:', score[0])\n",
        "print('Test accuracy:', score[1])\n",
        "fig,ax = plt.subplots(1,1)\n",
        "ax.set_xlabel('epoch') ; ax.set_ylabel('Categorical Crossentropy Loss')\n",
        "x = list(range(1,epochs+1))\n",
        "vy = history.history['val_loss']\n",
        "ty = history.history['loss']\n",
        "plt_dynamic(x, vy, ty, ax)"
      ],
      "execution_count": 0,
      "outputs": [
        {
          "output_type": "stream",
          "text": [
            "WARNING:tensorflow:From /usr/local/lib/python3.6/dist-packages/keras/backend/tensorflow_backend.py:66: The name tf.get_default_graph is deprecated. Please use tf.compat.v1.get_default_graph instead.\n",
            "\n",
            "WARNING:tensorflow:From /usr/local/lib/python3.6/dist-packages/keras/backend/tensorflow_backend.py:541: The name tf.placeholder is deprecated. Please use tf.compat.v1.placeholder instead.\n",
            "\n",
            "WARNING:tensorflow:From /usr/local/lib/python3.6/dist-packages/keras/backend/tensorflow_backend.py:4432: The name tf.random_uniform is deprecated. Please use tf.random.uniform instead.\n",
            "\n",
            "WARNING:tensorflow:From /usr/local/lib/python3.6/dist-packages/keras/backend/tensorflow_backend.py:4267: The name tf.nn.max_pool is deprecated. Please use tf.nn.max_pool2d instead.\n",
            "\n",
            "WARNING:tensorflow:From /usr/local/lib/python3.6/dist-packages/keras/optimizers.py:793: The name tf.train.Optimizer is deprecated. Please use tf.compat.v1.train.Optimizer instead.\n",
            "\n",
            "WARNING:tensorflow:From /usr/local/lib/python3.6/dist-packages/keras/backend/tensorflow_backend.py:3576: The name tf.log is deprecated. Please use tf.math.log instead.\n",
            "\n",
            "WARNING:tensorflow:From /usr/local/lib/python3.6/dist-packages/tensorflow/python/ops/math_grad.py:1250: add_dispatch_support.<locals>.wrapper (from tensorflow.python.ops.array_ops) is deprecated and will be removed in a future version.\n",
            "Instructions for updating:\n",
            "Use tf.where in 2.0, which has the same broadcast rule as np.where\n",
            "WARNING:tensorflow:From /usr/local/lib/python3.6/dist-packages/keras/backend/tensorflow_backend.py:1033: The name tf.assign_add is deprecated. Please use tf.compat.v1.assign_add instead.\n",
            "\n",
            "Train on 60000 samples, validate on 10000 samples\n",
            "Epoch 1/12\n",
            "60000/60000 [==============================] - 1940s 32ms/step - loss: 0.1354 - acc: 0.9571 - val_loss: 0.0311 - val_acc: 0.9900\n",
            "Epoch 2/12\n",
            "60000/60000 [==============================] - 2019s 34ms/step - loss: 0.0363 - acc: 0.9886 - val_loss: 0.0251 - val_acc: 0.9917\n",
            "Epoch 3/12\n",
            "60000/60000 [==============================] - 2002s 33ms/step - loss: 0.0244 - acc: 0.9923 - val_loss: 0.0213 - val_acc: 0.9924\n",
            "Epoch 4/12\n",
            "60000/60000 [==============================] - 1941s 32ms/step - loss: 0.0191 - acc: 0.9940 - val_loss: 0.0234 - val_acc: 0.9917\n",
            "Epoch 5/12\n",
            "60000/60000 [==============================] - 1942s 32ms/step - loss: 0.0148 - acc: 0.9956 - val_loss: 0.0200 - val_acc: 0.9943\n",
            "Epoch 6/12\n",
            "60000/60000 [==============================] - 1920s 32ms/step - loss: 0.0129 - acc: 0.9957 - val_loss: 0.0370 - val_acc: 0.9879\n",
            "Epoch 7/12\n",
            "60000/60000 [==============================] - 1915s 32ms/step - loss: 0.0122 - acc: 0.9962 - val_loss: 0.0344 - val_acc: 0.9904\n",
            "Epoch 8/12\n",
            "60000/60000 [==============================] - 1896s 32ms/step - loss: 0.0099 - acc: 0.9969 - val_loss: 0.0217 - val_acc: 0.9937\n",
            "Epoch 9/12\n",
            "60000/60000 [==============================] - 1924s 32ms/step - loss: 0.0093 - acc: 0.9970 - val_loss: 0.0243 - val_acc: 0.9937\n",
            "Epoch 10/12\n",
            "60000/60000 [==============================] - 1928s 32ms/step - loss: 0.0082 - acc: 0.9975 - val_loss: 0.0324 - val_acc: 0.9923\n",
            "Epoch 11/12\n",
            "60000/60000 [==============================] - 2076s 35ms/step - loss: 0.0085 - acc: 0.9974 - val_loss: 0.0324 - val_acc: 0.9934\n",
            "Epoch 12/12\n",
            "60000/60000 [==============================] - 2059s 34ms/step - loss: 0.0098 - acc: 0.9970 - val_loss: 0.0422 - val_acc: 0.9909\n",
            "Test loss: 0.04218560108361871\n",
            "Test accuracy: 0.9909\n"
          ],
          "name": "stdout"
        },
        {
          "output_type": "display_data",
          "data": {
            "image/png": "[encoded data removed]",
            "text/plain": [
              "<Figure size 432x288 with 1 Axes>"
            ]
          },
          "metadata": {
            "tags": []
          }
        }
      ]
    },
    {
      "cell_type": "markdown",
      "metadata": {
        "id": "dMh3cfNyFTu2",
        "colab_type": "text"
      },
      "source": [
        "## Architecture 2 with 4 Convolution Layers 5x5 Kernal + Dropouts + Batch Normalization in Dense Layer and after Convolution Layers"
      ]
    },
    {
      "cell_type": "code",
      "metadata": {
        "id": "DvQVoyR4NENC",
        "colab_type": "code",
        "outputId": "26a571dd-d867-4c8f-ac50-8b8e558ee93b",
        "colab": {
          "base_uri": "https://localhost:8080/",
          "height": 1000
        }
      },
      "source": [
        "from keras.layers.normalization import BatchNormalization\n",
        "model = Sequential()\n",
        "model.add(Conv2D(32, (5, 5), padding=\"same\", activation=\"relu\",input_shape=input_shape))\n",
        "model.add(Conv2D(64, (5, 5), padding=\"same\", activation=\"relu\"))\n",
        "model.add(MaxPooling2D(pool_size=(2, 2)))\n",
        "model.add(BatchNormalization())\n",
        "model.add(Dropout(0.5))\n",
        "model.add(Conv2D(128, (5, 5), padding=\"same\", activation=\"relu\"))\n",
        "model.add(Conv2D(256, (5, 5), padding=\"same\", activation=\"relu\"))\n",
        "model.add(MaxPooling2D(pool_size=(2, 2)))\n",
        "model.add(BatchNormalization())\n",
        "model.add(Dropout(0.5))\n",
        "model.add(Flatten())\n",
        "model.add(Dense(256, activation='relu'))\n",
        "model.add(BatchNormalization())\n",
        "model.add(Dropout(0.5))\n",
        "model.add(Dense(num_classes, activation='softmax'))\n",
        "\n",
        "model.compile(loss=keras.losses.categorical_crossentropy,\n",
        "              optimizer=keras.optimizers.Adam(),\n",
        "              metrics=['accuracy'])\n",
        "\n",
        "history = model.fit(x_train, y_train,\n",
        "          batch_size=batch_size,\n",
        "          epochs=epochs,\n",
        "          verbose=1,\n",
        "          validation_data=(x_test, y_test))\n",
        "\n",
        "score = model.evaluate(x_test, y_test, verbose=0)\n",
        "print('Test loss:', score[0])\n",
        "print('Test accuracy:', score[1])\n",
        "fig,ax = plt.subplots(1,1)\n",
        "ax.set_xlabel('epoch') ; ax.set_ylabel('Categorical Crossentropy Loss')\n",
        "x = list(range(1,epochs+1))\n",
        "vy = history.history['val_loss']\n",
        "ty = history.history['loss']\n",
        "plt_dynamic(x, vy, ty, ax)"
      ],
      "execution_count": 0,
      "outputs": [
        {
          "output_type": "stream",
          "text": [
            "WARNING:tensorflow:From /usr/local/lib/python3.6/dist-packages/keras/backend/tensorflow_backend.py:66: The name tf.get_default_graph is deprecated. Please use tf.compat.v1.get_default_graph instead.\n",
            "\n",
            "WARNING:tensorflow:From /usr/local/lib/python3.6/dist-packages/keras/backend/tensorflow_backend.py:541: The name tf.placeholder is deprecated. Please use tf.compat.v1.placeholder instead.\n",
            "\n",
            "WARNING:tensorflow:From /usr/local/lib/python3.6/dist-packages/keras/backend/tensorflow_backend.py:4432: The name tf.random_uniform is deprecated. Please use tf.random.uniform instead.\n",
            "\n",
            "WARNING:tensorflow:From /usr/local/lib/python3.6/dist-packages/keras/backend/tensorflow_backend.py:4267: The name tf.nn.max_pool is deprecated. Please use tf.nn.max_pool2d instead.\n",
            "\n",
            "WARNING:tensorflow:From /usr/local/lib/python3.6/dist-packages/keras/backend/tensorflow_backend.py:190: The name tf.get_default_session is deprecated. Please use tf.compat.v1.get_default_session instead.\n",
            "\n",
            "WARNING:tensorflow:From /usr/local/lib/python3.6/dist-packages/keras/backend/tensorflow_backend.py:197: The name tf.ConfigProto is deprecated. Please use tf.compat.v1.ConfigProto instead.\n",
            "\n",
            "WARNING:tensorflow:From /usr/local/lib/python3.6/dist-packages/keras/backend/tensorflow_backend.py:2041: The name tf.nn.fused_batch_norm is deprecated. Please use tf.compat.v1.nn.fused_batch_norm instead.\n",
            "\n",
            "WARNING:tensorflow:From /usr/local/lib/python3.6/dist-packages/keras/backend/tensorflow_backend.py:3733: calling dropout (from tensorflow.python.ops.nn_ops) with keep_prob is deprecated and will be removed in a future version.\n",
            "Instructions for updating:\n",
            "Please use `rate` instead of `keep_prob`. Rate should be set to `rate = 1 - keep_prob`.\n",
            "WARNING:tensorflow:From /usr/local/lib/python3.6/dist-packages/keras/optimizers.py:793: The name tf.train.Optimizer is deprecated. Please use tf.compat.v1.train.Optimizer instead.\n",
            "\n",
            "WARNING:tensorflow:From /usr/local/lib/python3.6/dist-packages/tensorflow/python/ops/math_grad.py:1250: add_dispatch_support.<locals>.wrapper (from tensorflow.python.ops.array_ops) is deprecated and will be removed in a future version.\n",
            "Instructions for updating:\n",
            "Use tf.where in 2.0, which has the same broadcast rule as np.where\n",
            "Train on 60000 samples, validate on 10000 samples\n",
            "Epoch 1/12\n",
            "60000/60000 [==============================] - 2382s 40ms/step - loss: 0.1720 - acc: 0.9470 - val_loss: 0.0740 - val_acc: 0.9771\n",
            "Epoch 2/12\n",
            "60000/60000 [==============================] - 2402s 40ms/step - loss: 0.0554 - acc: 0.9832 - val_loss: 0.0389 - val_acc: 0.9868\n",
            "Epoch 3/12\n",
            "60000/60000 [==============================] - 2381s 40ms/step - loss: 0.0426 - acc: 0.9867 - val_loss: 0.0235 - val_acc: 0.9919\n",
            "Epoch 4/12\n",
            "60000/60000 [==============================] - 2370s 40ms/step - loss: 0.0361 - acc: 0.9886 - val_loss: 0.0233 - val_acc: 0.9928\n",
            "Epoch 5/12\n",
            "60000/60000 [==============================] - 2369s 39ms/step - loss: 0.0315 - acc: 0.9903 - val_loss: 0.0218 - val_acc: 0.9919\n",
            "Epoch 6/12\n",
            "60000/60000 [==============================] - 2385s 40ms/step - loss: 0.0278 - acc: 0.9915 - val_loss: 0.0236 - val_acc: 0.9918\n",
            "Epoch 7/12\n",
            "60000/60000 [==============================] - 2384s 40ms/step - loss: 0.0268 - acc: 0.9912 - val_loss: 0.0290 - val_acc: 0.9905\n",
            "Epoch 8/12\n",
            "60000/60000 [==============================] - 2392s 40ms/step - loss: 0.0249 - acc: 0.9923 - val_loss: 0.0252 - val_acc: 0.9911\n",
            "Epoch 9/12\n",
            "60000/60000 [==============================] - 2378s 40ms/step - loss: 0.0233 - acc: 0.9926 - val_loss: 0.0163 - val_acc: 0.9948\n",
            "Epoch 10/12\n",
            "60000/60000 [==============================] - 2372s 40ms/step - loss: 0.0207 - acc: 0.9934 - val_loss: 0.0262 - val_acc: 0.9913\n",
            "Epoch 11/12\n",
            "60000/60000 [==============================] - 2383s 40ms/step - loss: 0.0203 - acc: 0.9934 - val_loss: 0.0186 - val_acc: 0.9944\n",
            "Epoch 12/12\n",
            "60000/60000 [==============================] - 2374s 40ms/step - loss: 0.0208 - acc: 0.9934 - val_loss: 0.0207 - val_acc: 0.9933\n",
            "Test loss: 0.020698927655953412\n",
            "Test accuracy: 0.9933\n"
          ],
          "name": "stdout"
        },
        {
          "output_type": "display_data",
          "data": {
            "image/png": "[encoded data removed]",
            "text/plain": [
              "<Figure size 432x288 with 1 Axes>"
            ]
          },
          "metadata": {
            "tags": []
          }
        }
      ]
    },
    {
      "cell_type": "code",
      "metadata": {
        "id": "2bTUYNEWFjLF",
        "colab_type": "code",
        "outputId": "8baa4e6d-90fb-436c-91cf-318b6dbeb762",
        "colab": {
          "base_uri": "https://localhost:8080/",
          "height": 121
        }
      },
      "source": [
        "from prettytable import PrettyTable\n",
        "    \n",
        "x = PrettyTable()\n",
        "\n",
        "x.field_names = [\"Architecture\", \"Kernals\", \"BatchNormalization\", \"Dropouts\", \"Loss\", \"Accuracy\"]\n",
        "\n",
        "x.add_row([\"2 Convolution Layers\",\"5x5\",\"No\",\"No\",\"0.0422\",\"0.9909\"])\n",
        "x.add_row([\"2 Convolution Layers\",\"5x5\",\"Yes\",\"Yes\",\"0.0207\",\"0.9933\"])\n",
        "print(x)\n"
      ],
      "execution_count": 0,
      "outputs": [
        {
          "output_type": "stream",
          "text": [
            "+----------------------+---------+--------------------+----------+--------+----------+\n",
            "|     Architecture     | Kernals | BatchNormalization | Dropouts |  Loss  | Accuracy |\n",
            "+----------------------+---------+--------------------+----------+--------+----------+\n",
            "| 2 Convolution Layers |   5x5   |         No         |    No    | 0.0422 |  0.9909  |\n",
            "| 2 Convolution Layers |   5x5   |        Yes         |   Yes    | 0.0207 |  0.9933  |\n",
            "+----------------------+---------+--------------------+----------+--------+----------+\n"
          ],
          "name": "stdout"
        }
      ]
    }
  ]
}