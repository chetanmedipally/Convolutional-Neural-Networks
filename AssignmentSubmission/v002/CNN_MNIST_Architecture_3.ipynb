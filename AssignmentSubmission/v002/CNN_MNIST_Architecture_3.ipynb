{
  "nbformat": 4,
  "nbformat_minor": 0,
  "metadata": {
    "colab": {
      "name": "CNN_MNIST_Architecture_3.ipynb",
      "provenance": [],
      "collapsed_sections": []
    },
    "kernelspec": {
      "display_name": "Python 3",
      "language": "python",
      "name": "python3"
    },
    "language_info": {
      "codemirror_mode": {
        "name": "ipython",
        "version": 3
      },
      "file_extension": ".py",
      "mimetype": "text/x-python",
      "name": "python",
      "nbconvert_exporter": "python",
      "pygments_lexer": "ipython3",
      "version": "3.7.3"
    }
  },
  "cells": [
    {
      "cell_type": "code",
      "metadata": {
        "id": "0e0UxGGGCXml",
        "colab_type": "code",
        "outputId": "3738f4b1-e164-4b3d-947b-2a279280baec",
        "colab": {
          "base_uri": "https://localhost:8080/",
          "height": 35
        }
      },
      "source": [
        "from __future__ import print_function\n",
        "import keras\n",
        "from keras.datasets import mnist\n",
        "from keras.models import Sequential\n",
        "from keras.layers import Dense, Dropout, Flatten\n",
        "from keras.layers import Conv2D, MaxPooling2D\n",
        "from keras import backend as K\n",
        "%matplotlib inline\n",
        "import matplotlib.pyplot as plt"
      ],
      "execution_count": 0,
      "outputs": [
        {
          "output_type": "stream",
          "text": [
            "Using TensorFlow backend.\n"
          ],
          "name": "stderr"
        }
      ]
    },
    {
      "cell_type": "code",
      "metadata": {
        "id": "L7yDFeWwCXuU",
        "colab_type": "code",
        "colab": {}
      },
      "source": [
        "batch_size = 128\n",
        "num_classes = 10\n",
        "epochs = 12\n",
        "\n",
        "# input image dimensions\n",
        "img_rows, img_cols = 28, 28"
      ],
      "execution_count": 0,
      "outputs": []
    },
    {
      "cell_type": "code",
      "metadata": {
        "id": "XW1w0WmhXcAd",
        "colab_type": "code",
        "colab": {}
      },
      "source": [
        "def plt_dynamic(x, vy, ty, ax, colors=['b']):\n",
        "    ax.plot(x, vy, 'b', label=\"Validation Loss\")\n",
        "    ax.plot(x, ty, 'r', label=\"Train Loss\")\n",
        "    plt.legend()\n",
        "    plt.grid()\n",
        "    fig.canvas.draw()"
      ],
      "execution_count": 0,
      "outputs": []
    },
    {
      "cell_type": "code",
      "metadata": {
        "id": "0h5_OicwCX1T",
        "colab_type": "code",
        "outputId": "c649cd6c-a0ca-4bd3-e2df-53c343ca699e",
        "colab": {
          "base_uri": "https://localhost:8080/",
          "height": 52
        }
      },
      "source": [
        "# the data, split between train and test sets\n",
        "(x_train, y_train), (x_test, y_test) = mnist.load_data()\n",
        "\n",
        "if K.image_data_format() == 'channels_first':\n",
        "    x_train = x_train.reshape(x_train.shape[0], 1, img_rows, img_cols)\n",
        "    x_test = x_test.reshape(x_test.shape[0], 1, img_rows, img_cols)\n",
        "    input_shape = (1, img_rows, img_cols)\n",
        "else:\n",
        "    x_train = x_train.reshape(x_train.shape[0], img_rows, img_cols, 1)\n",
        "    x_test = x_test.reshape(x_test.shape[0], img_rows, img_cols, 1)\n",
        "    input_shape = (img_rows, img_cols, 1)"
      ],
      "execution_count": 0,
      "outputs": [
        {
          "output_type": "stream",
          "text": [
            "Downloading data from https://s3.amazonaws.com/img-datasets/mnist.npz\n",
            "11493376/11490434 [==============================] - 1s 0us/step\n"
          ],
          "name": "stdout"
        }
      ]
    },
    {
      "cell_type": "code",
      "metadata": {
        "id": "7KTuXhf6CX85",
        "colab_type": "code",
        "outputId": "4f973ba3-04ef-468e-e123-aad3e1823663",
        "colab": {
          "base_uri": "https://localhost:8080/",
          "height": 69
        }
      },
      "source": [
        "x_train = x_train.astype('float32')\n",
        "x_test = x_test.astype('float32')\n",
        "x_train /= 255\n",
        "x_test /= 255\n",
        "print('x_train shape:', x_train.shape)\n",
        "print(x_train.shape[0], 'train samples')\n",
        "print(x_test.shape[0], 'test samples')"
      ],
      "execution_count": 0,
      "outputs": [
        {
          "output_type": "stream",
          "text": [
            "x_train shape: (60000, 28, 28, 1)\n",
            "60000 train samples\n",
            "10000 test samples\n"
          ],
          "name": "stdout"
        }
      ]
    },
    {
      "cell_type": "code",
      "metadata": {
        "id": "m4hjprOyCYEs",
        "colab_type": "code",
        "colab": {}
      },
      "source": [
        "# convert class vectors to binary class matrices\n",
        "y_train = keras.utils.to_categorical(y_train, num_classes)\n",
        "y_test = keras.utils.to_categorical(y_test, num_classes)"
      ],
      "execution_count": 0,
      "outputs": []
    },
    {
      "cell_type": "markdown",
      "metadata": {
        "id": "craZZjqxC0eD",
        "colab_type": "text"
      },
      "source": [
        "## Architecture 3 with 3 Convolution Layers 6x6 Kernal"
      ]
    },
    {
      "cell_type": "code",
      "metadata": {
        "id": "3vLTcZHCCYLt",
        "colab_type": "code",
        "outputId": "08777aa0-615a-4ce8-aa8e-178d552b48ae",
        "colab": {
          "base_uri": "https://localhost:8080/",
          "height": 1000
        }
      },
      "source": [
        "model = Sequential()\n",
        "model.add(Conv2D(32, (6, 6), padding=\"same\", activation=\"relu\",input_shape=input_shape))\n",
        "model.add(Conv2D(64, (6, 6), padding=\"same\", activation=\"relu\"))\n",
        "model.add(MaxPooling2D(pool_size=(2, 2)))\n",
        "model.add(Conv2D(128, (6, 6), padding=\"same\", activation=\"relu\"))\n",
        "model.add(MaxPooling2D(pool_size=(2, 2)))\n",
        "model.add(Flatten())\n",
        "model.add(Dense(32, activation='relu'))\n",
        "model.add(Dense(num_classes, activation='softmax'))\n",
        "\n",
        "model.compile(loss=keras.losses.categorical_crossentropy,\n",
        "              optimizer=keras.optimizers.Adam(),\n",
        "              metrics=['accuracy'])\n",
        "\n",
        "history = model.fit(x_train, y_train,\n",
        "          batch_size=batch_size,\n",
        "          epochs=epochs,\n",
        "          verbose=1,\n",
        "          validation_data=(x_test, y_test))\n",
        "\n",
        "score = model.evaluate(x_test, y_test, verbose=0)\n",
        "print('Test loss:', score[0])\n",
        "print('Test accuracy:', score[1])\n",
        "fig,ax = plt.subplots(1,1)\n",
        "ax.set_xlabel('epoch') ; ax.set_ylabel('Categorical Crossentropy Loss')\n",
        "x = list(range(1,epochs+1))\n",
        "vy = history.history['val_loss']\n",
        "ty = history.history['loss']\n",
        "plt_dynamic(x, vy, ty, ax)"
      ],
      "execution_count": 0,
      "outputs": [
        {
          "output_type": "stream",
          "text": [
            "WARNING:tensorflow:From /usr/local/lib/python3.6/dist-packages/keras/backend/tensorflow_backend.py:66: The name tf.get_default_graph is deprecated. Please use tf.compat.v1.get_default_graph instead.\n",
            "\n",
            "WARNING:tensorflow:From /usr/local/lib/python3.6/dist-packages/keras/backend/tensorflow_backend.py:541: The name tf.placeholder is deprecated. Please use tf.compat.v1.placeholder instead.\n",
            "\n",
            "WARNING:tensorflow:From /usr/local/lib/python3.6/dist-packages/keras/backend/tensorflow_backend.py:4432: The name tf.random_uniform is deprecated. Please use tf.random.uniform instead.\n",
            "\n",
            "WARNING:tensorflow:From /usr/local/lib/python3.6/dist-packages/keras/backend/tensorflow_backend.py:4267: The name tf.nn.max_pool is deprecated. Please use tf.nn.max_pool2d instead.\n",
            "\n",
            "WARNING:tensorflow:From /usr/local/lib/python3.6/dist-packages/keras/optimizers.py:793: The name tf.train.Optimizer is deprecated. Please use tf.compat.v1.train.Optimizer instead.\n",
            "\n",
            "WARNING:tensorflow:From /usr/local/lib/python3.6/dist-packages/keras/backend/tensorflow_backend.py:3576: The name tf.log is deprecated. Please use tf.math.log instead.\n",
            "\n",
            "WARNING:tensorflow:From /usr/local/lib/python3.6/dist-packages/tensorflow/python/ops/math_grad.py:1250: add_dispatch_support.<locals>.wrapper (from tensorflow.python.ops.array_ops) is deprecated and will be removed in a future version.\n",
            "Instructions for updating:\n",
            "Use tf.where in 2.0, which has the same broadcast rule as np.where\n",
            "WARNING:tensorflow:From /usr/local/lib/python3.6/dist-packages/keras/backend/tensorflow_backend.py:1033: The name tf.assign_add is deprecated. Please use tf.compat.v1.assign_add instead.\n",
            "\n",
            "Train on 60000 samples, validate on 10000 samples\n",
            "Epoch 1/12\n",
            "60000/60000 [==============================] - 888s 15ms/step - loss: 0.1662 - acc: 0.9479 - val_loss: 0.0383 - val_acc: 0.9874\n",
            "Epoch 2/12\n",
            "60000/60000 [==============================] - 886s 15ms/step - loss: 0.0424 - acc: 0.9866 - val_loss: 0.0301 - val_acc: 0.9900\n",
            "Epoch 3/12\n",
            "60000/60000 [==============================] - 887s 15ms/step - loss: 0.0285 - acc: 0.9916 - val_loss: 0.0266 - val_acc: 0.9914\n",
            "Epoch 4/12\n",
            "60000/60000 [==============================] - 886s 15ms/step - loss: 0.0217 - acc: 0.9930 - val_loss: 0.0270 - val_acc: 0.9918\n",
            "Epoch 5/12\n",
            "60000/60000 [==============================] - 887s 15ms/step - loss: 0.0170 - acc: 0.9950 - val_loss: 0.0257 - val_acc: 0.9917\n",
            "Epoch 6/12\n",
            "60000/60000 [==============================] - 884s 15ms/step - loss: 0.0133 - acc: 0.9956 - val_loss: 0.0313 - val_acc: 0.9912\n",
            "Epoch 7/12\n",
            "60000/60000 [==============================] - 885s 15ms/step - loss: 0.0131 - acc: 0.9959 - val_loss: 0.0317 - val_acc: 0.9911\n",
            "Epoch 8/12\n",
            "60000/60000 [==============================] - 885s 15ms/step - loss: 0.0125 - acc: 0.9960 - val_loss: 0.0232 - val_acc: 0.9940\n",
            "Epoch 9/12\n",
            "60000/60000 [==============================] - 885s 15ms/step - loss: 0.0086 - acc: 0.9974 - val_loss: 0.0345 - val_acc: 0.9925\n",
            "Epoch 10/12\n",
            "60000/60000 [==============================] - 885s 15ms/step - loss: 0.0089 - acc: 0.9973 - val_loss: 0.0271 - val_acc: 0.9932\n",
            "Epoch 11/12\n",
            "60000/60000 [==============================] - 885s 15ms/step - loss: 0.0084 - acc: 0.9973 - val_loss: 0.0326 - val_acc: 0.9912\n",
            "Epoch 12/12\n",
            "60000/60000 [==============================] - 885s 15ms/step - loss: 0.0076 - acc: 0.9975 - val_loss: 0.0328 - val_acc: 0.9912\n",
            "Test loss: 0.03280971884031915\n",
            "Test accuracy: 0.9912\n"
          ],
          "name": "stdout"
        },
        {
          "output_type": "display_data",
          "data": {
            "image/png": "[encoded data removed]",
            "text/plain": [
              "<Figure size 432x288 with 1 Axes>"
            ]
          },
          "metadata": {
            "tags": []
          }
        }
      ]
    },
    {
      "cell_type": "markdown",
      "metadata": {
        "id": "xMTtf2BpGcS5",
        "colab_type": "text"
      },
      "source": [
        "## Architecture 3 with 3 Convolution Layers 6x6 Kernal + Dropouts in Dense Layer"
      ]
    },
    {
      "cell_type": "code",
      "metadata": {
        "id": "NnbF9wFzUvab",
        "colab_type": "code",
        "outputId": "ad99261c-8ed0-472b-e185-b74135a60176",
        "colab": {
          "base_uri": "https://localhost:8080/",
          "height": 1000
        }
      },
      "source": [
        "model = Sequential()\n",
        "model.add(Conv2D(32, (6, 6), padding=\"same\", activation=\"relu\",input_shape=input_shape))\n",
        "model.add(Conv2D(64, (6, 6), padding=\"same\", activation=\"relu\"))\n",
        "model.add(MaxPooling2D(pool_size=(2, 2)))\n",
        "model.add(Conv2D(128, (6, 6), padding=\"same\", activation=\"relu\"))\n",
        "model.add(MaxPooling2D(pool_size=(2, 2)))\n",
        "model.add(Flatten())\n",
        "model.add(Dense(32, activation='relu'))\n",
        "model.add(Dropout(0.5))\n",
        "model.add(Dense(num_classes, activation='softmax'))\n",
        "\n",
        "model.compile(loss=keras.losses.categorical_crossentropy,\n",
        "              optimizer=keras.optimizers.Adam(),\n",
        "              metrics=['accuracy'])\n",
        "\n",
        "history = model.fit(x_train, y_train,\n",
        "          batch_size=batch_size,\n",
        "          epochs=epochs,\n",
        "          verbose=1,\n",
        "          validation_data=(x_test, y_test))\n",
        "\n",
        "score = model.evaluate(x_test, y_test, verbose=0)\n",
        "print('Test loss:', score[0])\n",
        "print('Test accuracy:', score[1])\n",
        "fig,ax = plt.subplots(1,1)\n",
        "ax.set_xlabel('epoch') ; ax.set_ylabel('Categorical Crossentropy Loss')\n",
        "x = list(range(1,epochs+1))\n",
        "vy = history.history['val_loss']\n",
        "ty = history.history['loss']\n",
        "plt_dynamic(x, vy, ty, ax)"
      ],
      "execution_count": 0,
      "outputs": [
        {
          "output_type": "stream",
          "text": [
            "WARNING:tensorflow:From /usr/local/lib/python3.6/dist-packages/keras/backend/tensorflow_backend.py:66: The name tf.get_default_graph is deprecated. Please use tf.compat.v1.get_default_graph instead.\n",
            "\n",
            "WARNING:tensorflow:From /usr/local/lib/python3.6/dist-packages/keras/backend/tensorflow_backend.py:541: The name tf.placeholder is deprecated. Please use tf.compat.v1.placeholder instead.\n",
            "\n",
            "WARNING:tensorflow:From /usr/local/lib/python3.6/dist-packages/keras/backend/tensorflow_backend.py:4432: The name tf.random_uniform is deprecated. Please use tf.random.uniform instead.\n",
            "\n",
            "WARNING:tensorflow:From /usr/local/lib/python3.6/dist-packages/keras/backend/tensorflow_backend.py:4267: The name tf.nn.max_pool is deprecated. Please use tf.nn.max_pool2d instead.\n",
            "\n",
            "WARNING:tensorflow:From /usr/local/lib/python3.6/dist-packages/keras/backend/tensorflow_backend.py:148: The name tf.placeholder_with_default is deprecated. Please use tf.compat.v1.placeholder_with_default instead.\n",
            "\n",
            "WARNING:tensorflow:From /usr/local/lib/python3.6/dist-packages/keras/backend/tensorflow_backend.py:3733: calling dropout (from tensorflow.python.ops.nn_ops) with keep_prob is deprecated and will be removed in a future version.\n",
            "Instructions for updating:\n",
            "Please use `rate` instead of `keep_prob`. Rate should be set to `rate = 1 - keep_prob`.\n",
            "WARNING:tensorflow:From /usr/local/lib/python3.6/dist-packages/keras/optimizers.py:793: The name tf.train.Optimizer is deprecated. Please use tf.compat.v1.train.Optimizer instead.\n",
            "\n",
            "WARNING:tensorflow:From /usr/local/lib/python3.6/dist-packages/keras/backend/tensorflow_backend.py:3576: The name tf.log is deprecated. Please use tf.math.log instead.\n",
            "\n",
            "WARNING:tensorflow:From /usr/local/lib/python3.6/dist-packages/tensorflow/python/ops/math_grad.py:1250: add_dispatch_support.<locals>.wrapper (from tensorflow.python.ops.array_ops) is deprecated and will be removed in a future version.\n",
            "Instructions for updating:\n",
            "Use tf.where in 2.0, which has the same broadcast rule as np.where\n",
            "Train on 60000 samples, validate on 10000 samples\n",
            "Epoch 1/12\n",
            "60000/60000 [==============================] - 1084s 18ms/step - loss: 0.5747 - acc: 0.7857 - val_loss: 0.0540 - val_acc: 0.9839\n",
            "Epoch 2/12\n",
            "60000/60000 [==============================] - 1075s 18ms/step - loss: 0.2872 - acc: 0.8905 - val_loss: 0.0348 - val_acc: 0.9895\n",
            "Epoch 3/12\n",
            "60000/60000 [==============================] - 1073s 18ms/step - loss: 0.2347 - acc: 0.9117 - val_loss: 0.0355 - val_acc: 0.9894\n",
            "Epoch 4/12\n",
            "60000/60000 [==============================] - 897s 15ms/step - loss: 0.1822 - acc: 0.9345 - val_loss: 0.0277 - val_acc: 0.9919\n",
            "Epoch 5/12\n",
            "60000/60000 [==============================] - 900s 15ms/step - loss: 0.1541 - acc: 0.9449 - val_loss: 0.0249 - val_acc: 0.9935\n",
            "Epoch 6/12\n",
            "60000/60000 [==============================] - 904s 15ms/step - loss: 0.1297 - acc: 0.9551 - val_loss: 0.0277 - val_acc: 0.9929\n",
            "Epoch 7/12\n",
            "60000/60000 [==============================] - 898s 15ms/step - loss: 0.1146 - acc: 0.9594 - val_loss: 0.0213 - val_acc: 0.9948\n",
            "Epoch 8/12\n",
            "60000/60000 [==============================] - 909s 15ms/step - loss: 0.1027 - acc: 0.9643 - val_loss: 0.0240 - val_acc: 0.9941\n",
            "Epoch 9/12\n",
            "60000/60000 [==============================] - 876s 15ms/step - loss: 0.0923 - acc: 0.9712 - val_loss: 0.0274 - val_acc: 0.9935\n",
            "Epoch 10/12\n",
            "60000/60000 [==============================] - 852s 14ms/step - loss: 0.0858 - acc: 0.9729 - val_loss: 0.0264 - val_acc: 0.9940\n",
            "Epoch 11/12\n",
            "60000/60000 [==============================] - 852s 14ms/step - loss: 0.0812 - acc: 0.9737 - val_loss: 0.0252 - val_acc: 0.9940\n",
            "Epoch 12/12\n",
            "60000/60000 [==============================] - 855s 14ms/step - loss: 0.0701 - acc: 0.9784 - val_loss: 0.0260 - val_acc: 0.9939\n",
            "Test loss: 0.02604114481532856\n",
            "Test accuracy: 0.9939\n"
          ],
          "name": "stdout"
        },
        {
          "output_type": "display_data",
          "data": {
            "image/png": "[encoded data removed]",
            "text/plain": [
              "<Figure size 432x288 with 1 Axes>"
            ]
          },
          "metadata": {
            "tags": []
          }
        }
      ]
    },
    {
      "cell_type": "markdown",
      "metadata": {
        "id": "zrw7vf3UGn6g",
        "colab_type": "text"
      },
      "source": [
        "## Architecture 3 with 3 Convolution Layers 6x6 Kernal + Dropout + Batch Normalization in Dense Layer"
      ]
    },
    {
      "cell_type": "code",
      "metadata": {
        "id": "86x14CDcUu-F",
        "colab_type": "code",
        "outputId": "c253e7e6-3148-4639-a0ce-85781ba48291",
        "colab": {
          "base_uri": "https://localhost:8080/",
          "height": 751
        }
      },
      "source": [
        "from keras.layers.normalization import BatchNormalization\n",
        "model = Sequential()\n",
        "model.add(Conv2D(32, (6, 6), padding=\"same\", activation=\"relu\",input_shape=input_shape))\n",
        "model.add(Conv2D(64, (6, 6), padding=\"same\", activation=\"relu\"))\n",
        "model.add(MaxPooling2D(pool_size=(2, 2)))\n",
        "model.add(Conv2D(128, (6, 6), padding=\"same\", activation=\"relu\"))\n",
        "model.add(MaxPooling2D(pool_size=(2, 2)))\n",
        "model.add(Flatten())\n",
        "model.add(Dense(32, activation='relu'))\n",
        "model.add(BatchNormalization())\n",
        "model.add(Dropout(0.5))\n",
        "model.add(Dense(num_classes, activation='softmax'))\n",
        "\n",
        "model.compile(loss=keras.losses.categorical_crossentropy,\n",
        "              optimizer=keras.optimizers.Adam(),\n",
        "              metrics=['accuracy'])\n",
        "\n",
        "history = model.fit(x_train, y_train,\n",
        "          batch_size=batch_size,\n",
        "          epochs=epochs,\n",
        "          verbose=1,\n",
        "          validation_data=(x_test, y_test))\n",
        "\n",
        "score = model.evaluate(x_test, y_test, verbose=0)\n",
        "print('Test loss:', score[0])\n",
        "print('Test accuracy:', score[1])\n",
        "fig,ax = plt.subplots(1,1)\n",
        "ax.set_xlabel('epoch') ; ax.set_ylabel('Categorical Crossentropy Loss')\n",
        "x = list(range(1,epochs+1))\n",
        "vy = history.history['val_loss']\n",
        "ty = history.history['loss']\n",
        "plt_dynamic(x, vy, ty, ax)"
      ],
      "execution_count": 0,
      "outputs": [
        {
          "output_type": "stream",
          "text": [
            "Train on 60000 samples, validate on 10000 samples\n",
            "Epoch 1/12\n",
            "60000/60000 [==============================] - 862s 14ms/step - loss: 0.4590 - acc: 0.8941 - val_loss: 0.0489 - val_acc: 0.9870\n",
            "Epoch 2/12\n",
            "60000/60000 [==============================] - 862s 14ms/step - loss: 0.1351 - acc: 0.9685 - val_loss: 0.0346 - val_acc: 0.9890\n",
            "Epoch 3/12\n",
            "60000/60000 [==============================] - 883s 15ms/step - loss: 0.0916 - acc: 0.9757 - val_loss: 0.0231 - val_acc: 0.9923\n",
            "Epoch 4/12\n",
            "60000/60000 [==============================] - 872s 15ms/step - loss: 0.0696 - acc: 0.9799 - val_loss: 0.0252 - val_acc: 0.9922\n",
            "Epoch 5/12\n",
            "60000/60000 [==============================] - 859s 14ms/step - loss: 0.0536 - acc: 0.9840 - val_loss: 0.0229 - val_acc: 0.9924\n",
            "Epoch 6/12\n",
            "60000/60000 [==============================] - 860s 14ms/step - loss: 0.0487 - acc: 0.9851 - val_loss: 0.0171 - val_acc: 0.9955\n",
            "Epoch 7/12\n",
            "60000/60000 [==============================] - 859s 14ms/step - loss: 0.0410 - acc: 0.9865 - val_loss: 0.0214 - val_acc: 0.9937\n",
            "Epoch 8/12\n",
            "60000/60000 [==============================] - 870s 15ms/step - loss: 0.0373 - acc: 0.9876 - val_loss: 0.0184 - val_acc: 0.9939\n",
            "Epoch 9/12\n",
            "60000/60000 [==============================] - 878s 15ms/step - loss: 0.0335 - acc: 0.9876 - val_loss: 0.0278 - val_acc: 0.9925\n",
            "Epoch 10/12\n",
            "60000/60000 [==============================] - 866s 14ms/step - loss: 0.0294 - acc: 0.9898 - val_loss: 0.0263 - val_acc: 0.9935\n",
            "Epoch 11/12\n",
            "60000/60000 [==============================] - 866s 14ms/step - loss: 0.0286 - acc: 0.9889 - val_loss: 0.0212 - val_acc: 0.9948\n",
            "Epoch 12/12\n",
            "60000/60000 [==============================] - 880s 15ms/step - loss: 0.0264 - acc: 0.9892 - val_loss: 0.0342 - val_acc: 0.9923\n",
            "Test loss: 0.03420497316633509\n",
            "Test accuracy: 0.9923\n"
          ],
          "name": "stdout"
        },
        {
          "output_type": "display_data",
          "data": {
            "image/png": "[encoded data removed]",
            "text/plain": [
              "<Figure size 432x288 with 1 Axes>"
            ]
          },
          "metadata": {
            "tags": []
          }
        }
      ]
    },
    {
      "cell_type": "markdown",
      "metadata": {
        "id": "mdeHZvToGxgB",
        "colab_type": "text"
      },
      "source": [
        "## Architecture 3 with 3 Convolution Layers 6x6 Kernal + Dropouts in Dense Layer and after convolution layers"
      ]
    },
    {
      "cell_type": "code",
      "metadata": {
        "id": "7NosToQyLGPj",
        "colab_type": "code",
        "outputId": "1c15d7e0-547d-4b26-c0c7-0787bd8848e8",
        "colab": {
          "base_uri": "https://localhost:8080/",
          "height": 806
        }
      },
      "source": [
        "from keras.layers.normalization import BatchNormalization\n",
        "model = Sequential()\n",
        "model.add(Conv2D(32, (6, 6), padding=\"same\", activation=\"relu\",input_shape=input_shape))\n",
        "model.add(Conv2D(64, (6, 6), padding=\"same\", activation=\"relu\"))\n",
        "model.add(MaxPooling2D(pool_size=(2, 2)))\n",
        "model.add(BatchNormalization())\n",
        "model.add(Dropout(0.5))\n",
        "model.add(Conv2D(128, (6, 6), padding=\"same\", activation=\"relu\"))\n",
        "model.add(MaxPooling2D(pool_size=(2, 2)))\n",
        "model.add(BatchNormalization())\n",
        "model.add(Dropout(0.5))\n",
        "model.add(Flatten())\n",
        "model.add(Dense(32, activation='relu'))\n",
        "model.add(BatchNormalization())\n",
        "model.add(Dropout(0.5))\n",
        "model.add(Dense(num_classes, activation='softmax'))\n",
        "\n",
        "model.compile(loss=keras.losses.categorical_crossentropy,\n",
        "              optimizer=keras.optimizers.Adam(),\n",
        "              metrics=['accuracy'])\n",
        "\n",
        "history = model.fit(x_train, y_train,\n",
        "          batch_size=batch_size,\n",
        "          epochs=epochs,\n",
        "          verbose=1,\n",
        "          validation_data=(x_test, y_test))\n",
        "\n",
        "score = model.evaluate(x_test, y_test, verbose=0)\n",
        "print('Test loss:', score[0])\n",
        "print('Test accuracy:', score[1])\n",
        "fig,ax = plt.subplots(1,1)\n",
        "ax.set_xlabel('epoch') ; ax.set_ylabel('Categorical Crossentropy Loss')\n",
        "x = list(range(1,epochs+1))\n",
        "vy = history.history['val_loss']\n",
        "ty = history.history['loss']\n",
        "plt_dynamic(x, vy, ty, ax)"
      ],
      "execution_count": 0,
      "outputs": [
        {
          "output_type": "stream",
          "text": [
            "WARNING:tensorflow:From /usr/local/lib/python3.6/dist-packages/keras/backend/tensorflow_backend.py:2041: The name tf.nn.fused_batch_norm is deprecated. Please use tf.compat.v1.nn.fused_batch_norm instead.\n",
            "\n",
            "Train on 60000 samples, validate on 10000 samples\n",
            "Epoch 1/12\n",
            "60000/60000 [==============================] - 940s 16ms/step - loss: 0.3065 - acc: 0.9159 - val_loss: 0.0469 - val_acc: 0.9869\n",
            "Epoch 2/12\n",
            "60000/60000 [==============================] - 920s 15ms/step - loss: 0.0937 - acc: 0.9762 - val_loss: 0.0305 - val_acc: 0.9896\n",
            "Epoch 3/12\n",
            "60000/60000 [==============================] - 922s 15ms/step - loss: 0.0687 - acc: 0.9813 - val_loss: 0.0339 - val_acc: 0.9885\n",
            "Epoch 4/12\n",
            "60000/60000 [==============================] - 922s 15ms/step - loss: 0.0572 - acc: 0.9839 - val_loss: 0.0295 - val_acc: 0.9901\n",
            "Epoch 5/12\n",
            "60000/60000 [==============================] - 921s 15ms/step - loss: 0.0514 - acc: 0.9854 - val_loss: 0.0228 - val_acc: 0.9930\n",
            "Epoch 6/12\n",
            "60000/60000 [==============================] - 929s 15ms/step - loss: 0.0470 - acc: 0.9868 - val_loss: 0.0177 - val_acc: 0.9942\n",
            "Epoch 7/12\n",
            "60000/60000 [==============================] - 930s 16ms/step - loss: 0.0418 - acc: 0.9883 - val_loss: 0.0230 - val_acc: 0.9932\n",
            "Epoch 8/12\n",
            "60000/60000 [==============================] - 927s 15ms/step - loss: 0.0404 - acc: 0.9887 - val_loss: 0.0233 - val_acc: 0.9927\n",
            "Epoch 9/12\n",
            "60000/60000 [==============================] - 923s 15ms/step - loss: 0.0361 - acc: 0.9900 - val_loss: 0.0158 - val_acc: 0.9943\n",
            "Epoch 10/12\n",
            "60000/60000 [==============================] - 935s 16ms/step - loss: 0.0334 - acc: 0.9904 - val_loss: 0.0190 - val_acc: 0.9939\n",
            "Epoch 11/12\n",
            "60000/60000 [==============================] - 927s 15ms/step - loss: 0.0328 - acc: 0.9903 - val_loss: 0.0161 - val_acc: 0.9952\n",
            "Epoch 12/12\n",
            "60000/60000 [==============================] - 922s 15ms/step - loss: 0.0301 - acc: 0.9914 - val_loss: 0.0184 - val_acc: 0.9949\n",
            "Test loss: 0.01839637577044914\n",
            "Test accuracy: 0.9949\n"
          ],
          "name": "stdout"
        },
        {
          "output_type": "display_data",
          "data": {
            "image/png": "[encoded data removed]",
            "text/plain": [
              "<Figure size 432x288 with 1 Axes>"
            ]
          },
          "metadata": {
            "tags": []
          }
        }
      ]
    },
    {
      "cell_type": "code",
      "metadata": {
        "id": "uXCSxODSHENm",
        "colab_type": "code",
        "outputId": "641b2fed-1653-432b-bdbb-6a9e32a6e6e3",
        "colab": {
          "base_uri": "https://localhost:8080/",
          "height": 156
        }
      },
      "source": [
        "from prettytable import PrettyTable\n",
        "    \n",
        "x = PrettyTable()\n",
        "\n",
        "x.field_names = [\"Architecture\", \"Kernals\", \"BatchNormalization\", \"Dropouts\", \"Loss\", \"Accuracy\"]\n",
        "\n",
        "x.add_row([\"3 Convolution Layers\",\"6x6\",\"No\",\"No\",\"0.0328\",\"0.9912\"])\n",
        "x.add_row([\"3 Convolution Layers\",\"6x6\",\"No\",\"Yes\",\"0.0260\",\"0.9939\"])\n",
        "x.add_row([\"3 Convolution Layers\",\"6x6\",\"Yes\",\"Yes\",\"0.0342\",\"0.9923\"])\n",
        "x.add_row([\"3 Convolution Layers\",\"6x6\",\"Yes\",\"Yes\",\"0.0183\",\"0.9949\"])\n",
        "print(x)"
      ],
      "execution_count": 0,
      "outputs": [
        {
          "output_type": "stream",
          "text": [
            "+----------------------+---------+--------------------+----------+--------+----------+\n",
            "|     Architecture     | Kernals | BatchNormalization | Dropouts |  Loss  | Accuracy |\n",
            "+----------------------+---------+--------------------+----------+--------+----------+\n",
            "| 3 Convolution Layers |   6x6   |         No         |    No    | 0.0328 |  0.9912  |\n",
            "| 3 Convolution Layers |   6x6   |         No         |   Yes    | 0.0260 |  0.9939  |\n",
            "| 3 Convolution Layers |   6x6   |        Yes         |   Yes    | 0.0342 |  0.9923  |\n",
            "| 3 Convolution Layers |   6x6   |        Yes         |   Yes    | 0.0183 |  0.9949  |\n",
            "+----------------------+---------+--------------------+----------+--------+----------+\n"
          ],
          "name": "stdout"
        }
      ]
    }
  ]
}