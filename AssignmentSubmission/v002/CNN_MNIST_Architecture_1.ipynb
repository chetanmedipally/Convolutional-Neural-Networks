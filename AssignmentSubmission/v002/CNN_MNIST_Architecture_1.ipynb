{
  "nbformat": 4,
  "nbformat_minor": 0,
  "metadata": {
    "colab": {
      "name": "CNN_MNIST_Architecture_1.ipynb",
      "provenance": [],
      "collapsed_sections": []
    },
    "kernelspec": {
      "display_name": "Python 3",
      "language": "python",
      "name": "python3"
    },
    "language_info": {
      "codemirror_mode": {
        "name": "ipython",
        "version": 3
      },
      "file_extension": ".py",
      "mimetype": "text/x-python",
      "name": "python",
      "nbconvert_exporter": "python",
      "pygments_lexer": "ipython3",
      "version": "3.7.3"
    }
  },
  "cells": [
    {
      "cell_type": "code",
      "metadata": {
        "id": "0e0UxGGGCXml",
        "colab_type": "code",
        "colab": {}
      },
      "source": [
        "from __future__ import print_function\n",
        "import keras\n",
        "from keras.datasets import mnist\n",
        "from keras.models import Sequential\n",
        "from keras.layers import Dense, Dropout, Flatten\n",
        "from keras.layers import Conv2D, MaxPooling2D\n",
        "from keras import backend as K\n",
        "%matplotlib inline\n",
        "import matplotlib.pyplot as plt"
      ],
      "execution_count": 0,
      "outputs": []
    },
    {
      "cell_type": "code",
      "metadata": {
        "id": "L7yDFeWwCXuU",
        "colab_type": "code",
        "colab": {}
      },
      "source": [
        "batch_size = 128\n",
        "num_classes = 10\n",
        "epochs = 12\n",
        "\n",
        "# input image dimensions\n",
        "img_rows, img_cols = 28, 28"
      ],
      "execution_count": 0,
      "outputs": []
    },
    {
      "cell_type": "code",
      "metadata": {
        "id": "tZ4QG7EBWaHo",
        "colab_type": "code",
        "colab": {}
      },
      "source": [
        "def plt_dynamic(x, vy, ty, ax, colors=['b']):\n",
        "    ax.plot(x, vy, 'b', label=\"Validation Loss\")\n",
        "    ax.plot(x, ty, 'r', label=\"Train Loss\")\n",
        "    plt.legend()\n",
        "    plt.grid()\n",
        "    fig.canvas.draw()"
      ],
      "execution_count": 0,
      "outputs": []
    },
    {
      "cell_type": "code",
      "metadata": {
        "id": "0h5_OicwCX1T",
        "colab_type": "code",
        "colab": {}
      },
      "source": [
        "# the data, split between train and test sets\n",
        "(x_train, y_train), (x_test, y_test) = mnist.load_data()\n",
        "\n",
        "if K.image_data_format() == 'channels_first':\n",
        "    x_train = x_train.reshape(x_train.shape[0], 1, img_rows, img_cols)\n",
        "    x_test = x_test.reshape(x_test.shape[0], 1, img_rows, img_cols)\n",
        "    input_shape = (1, img_rows, img_cols)\n",
        "else:\n",
        "    x_train = x_train.reshape(x_train.shape[0], img_rows, img_cols, 1)\n",
        "    x_test = x_test.reshape(x_test.shape[0], img_rows, img_cols, 1)\n",
        "    input_shape = (img_rows, img_cols, 1)"
      ],
      "execution_count": 0,
      "outputs": []
    },
    {
      "cell_type": "code",
      "metadata": {
        "id": "7KTuXhf6CX85",
        "colab_type": "code",
        "outputId": "6302829b-c549-4f41-d53d-66a2a1c58c26",
        "colab": {
          "base_uri": "https://localhost:8080/",
          "height": 69
        }
      },
      "source": [
        "x_train = x_train.astype('float32')\n",
        "x_test = x_test.astype('float32')\n",
        "x_train /= 255\n",
        "x_test /= 255\n",
        "print('x_train shape:', x_train.shape)\n",
        "print(x_train.shape[0], 'train samples')\n",
        "print(x_test.shape[0], 'test samples')"
      ],
      "execution_count": 0,
      "outputs": [
        {
          "output_type": "stream",
          "text": [
            "x_train shape: (60000, 28, 28, 1)\n",
            "60000 train samples\n",
            "10000 test samples\n"
          ],
          "name": "stdout"
        }
      ]
    },
    {
      "cell_type": "code",
      "metadata": {
        "id": "m4hjprOyCYEs",
        "colab_type": "code",
        "colab": {}
      },
      "source": [
        "# convert class vectors to binary class matrices\n",
        "y_train = keras.utils.to_categorical(y_train, num_classes)\n",
        "y_test = keras.utils.to_categorical(y_test, num_classes)"
      ],
      "execution_count": 0,
      "outputs": []
    },
    {
      "cell_type": "markdown",
      "metadata": {
        "id": "craZZjqxC0eD",
        "colab_type": "text"
      },
      "source": [
        "## Architecture 1 with 2 Convolution Layers 4x4 Kernal"
      ]
    },
    {
      "cell_type": "code",
      "metadata": {
        "id": "3vLTcZHCCYLt",
        "colab_type": "code",
        "colab": {}
      },
      "source": [
        "model = Sequential()\n",
        "model.add(Conv2D(32, (4, 4), padding=\"same\", activation=\"relu\",input_shape=input_shape))\n",
        "model.add(Conv2D(64, (4, 4), padding=\"same\", activation=\"relu\"))\n",
        "model.add(MaxPooling2D(pool_size=(2, 2)))\n",
        "model.add(Flatten())\n",
        "model.add(Dense(128, activation='relu'))\n",
        "model.add(Dense(num_classes, activation='softmax'))"
      ],
      "execution_count": 0,
      "outputs": []
    },
    {
      "cell_type": "code",
      "metadata": {
        "id": "Rsd1e-LDCYTb",
        "colab_type": "code",
        "outputId": "84f16ec0-d83e-49cf-eb16-2bad964ed4e5",
        "colab": {
          "base_uri": "https://localhost:8080/",
          "height": 451
        }
      },
      "source": [
        "model.compile(loss=keras.losses.categorical_crossentropy,\n",
        "              optimizer=keras.optimizers.Adam(),\n",
        "              metrics=['accuracy'])\n",
        "\n",
        "history = model.fit(x_train, y_train,\n",
        "          batch_size=batch_size,\n",
        "          epochs=epochs,\n",
        "          verbose=1,\n",
        "          validation_data=(x_test, y_test))"
      ],
      "execution_count": 0,
      "outputs": [
        {
          "output_type": "stream",
          "text": [
            "Train on 60000 samples, validate on 10000 samples\n",
            "Epoch 1/12\n",
            "60000/60000 [==============================] - 291s 5ms/step - loss: 0.1436 - acc: 0.9575 - val_loss: 0.0429 - val_acc: 0.9854\n",
            "Epoch 2/12\n",
            "60000/60000 [==============================] - 290s 5ms/step - loss: 0.0411 - acc: 0.9876 - val_loss: 0.0316 - val_acc: 0.9885\n",
            "Epoch 3/12\n",
            "60000/60000 [==============================] - 290s 5ms/step - loss: 0.0256 - acc: 0.9914 - val_loss: 0.0340 - val_acc: 0.9881\n",
            "Epoch 4/12\n",
            "60000/60000 [==============================] - 289s 5ms/step - loss: 0.0169 - acc: 0.9946 - val_loss: 0.0297 - val_acc: 0.9897\n",
            "Epoch 5/12\n",
            "60000/60000 [==============================] - 289s 5ms/step - loss: 0.0126 - acc: 0.9956 - val_loss: 0.0323 - val_acc: 0.9896\n",
            "Epoch 6/12\n",
            "60000/60000 [==============================] - 287s 5ms/step - loss: 0.0099 - acc: 0.9968 - val_loss: 0.0318 - val_acc: 0.9911\n",
            "Epoch 7/12\n",
            "60000/60000 [==============================] - 287s 5ms/step - loss: 0.0081 - acc: 0.9973 - val_loss: 0.0471 - val_acc: 0.9872\n",
            "Epoch 8/12\n",
            "60000/60000 [==============================] - 285s 5ms/step - loss: 0.0087 - acc: 0.9971 - val_loss: 0.0301 - val_acc: 0.9921\n",
            "Epoch 9/12\n",
            "60000/60000 [==============================] - 285s 5ms/step - loss: 0.0053 - acc: 0.9983 - val_loss: 0.0414 - val_acc: 0.9904\n",
            "Epoch 10/12\n",
            "60000/60000 [==============================] - 287s 5ms/step - loss: 0.0054 - acc: 0.9983 - val_loss: 0.0379 - val_acc: 0.9902\n",
            "Epoch 11/12\n",
            "60000/60000 [==============================] - 284s 5ms/step - loss: 0.0056 - acc: 0.9980 - val_loss: 0.0398 - val_acc: 0.9907\n",
            "Epoch 12/12\n",
            "60000/60000 [==============================] - 281s 5ms/step - loss: 0.0043 - acc: 0.9985 - val_loss: 0.0410 - val_acc: 0.9913\n"
          ],
          "name": "stdout"
        }
      ]
    },
    {
      "cell_type": "code",
      "metadata": {
        "id": "o95X453bCoIy",
        "colab_type": "code",
        "outputId": "9d4fb096-161f-457e-eb1a-437f77910247",
        "colab": {
          "base_uri": "https://localhost:8080/",
          "height": 318
        }
      },
      "source": [
        "score = model.evaluate(x_test, y_test, verbose=0)\n",
        "print('Test loss:', score[0])\n",
        "print('Test accuracy:', score[1])\n",
        "fig,ax = plt.subplots(1,1)\n",
        "ax.set_xlabel('epoch') ; ax.set_ylabel('Categorical Crossentropy Loss')\n",
        "x = list(range(1,epochs+1))\n",
        "vy = history.history['val_loss']\n",
        "ty = history.history['loss']\n",
        "plt_dynamic(x, vy, ty, ax)"
      ],
      "execution_count": 0,
      "outputs": [
        {
          "output_type": "stream",
          "text": [
            "Test loss: 0.04097821550033655\n",
            "Test accuracy: 0.9913\n"
          ],
          "name": "stdout"
        },
        {
          "output_type": "display_data",
          "data": {
            "image/png": "[encoded data removed]",
            "text/plain": [
              "<Figure size 432x288 with 1 Axes>"
            ]
          },
          "metadata": {
            "tags": []
          }
        }
      ]
    },
    {
      "cell_type": "markdown",
      "metadata": {
        "id": "z0T8MihOCfYe",
        "colab_type": "text"
      },
      "source": [
        "## Architecture 1 with 2 Convolution Layers 4x4 Kernal + Dropouts in Dense Layer"
      ]
    },
    {
      "cell_type": "code",
      "metadata": {
        "id": "aPOer6zueEjm",
        "colab_type": "code",
        "outputId": "5c1be82e-a124-4f4a-f7bb-d97959fb6b21",
        "colab": {
          "base_uri": "https://localhost:8080/",
          "height": 823
        }
      },
      "source": [
        "model = Sequential()\n",
        "model.add(Conv2D(32, (4, 4), padding=\"same\", activation=\"relu\",input_shape=input_shape))\n",
        "model.add(Conv2D(64, (4, 4), padding=\"same\", activation=\"relu\"))\n",
        "model.add(MaxPooling2D(pool_size=(2, 2)))\n",
        "model.add(Flatten())\n",
        "model.add(Dense(128, activation='relu'))\n",
        "model.add(Dropout(0.5))\n",
        "model.add(Dense(num_classes, activation='softmax'))\n",
        "\n",
        "model.compile(loss=keras.losses.categorical_crossentropy,\n",
        "              optimizer=keras.optimizers.Adam(),\n",
        "              metrics=['accuracy'])\n",
        "\n",
        "history = model.fit(x_train, y_train,\n",
        "          batch_size=batch_size,\n",
        "          epochs=epochs,\n",
        "          verbose=1,\n",
        "          validation_data=(x_test, y_test))\n",
        "\n",
        "score = model.evaluate(x_test, y_test, verbose=0)\n",
        "print('Test loss:', score[0])\n",
        "print('Test accuracy:', score[1])\n",
        "fig,ax = plt.subplots(1,1)\n",
        "ax.set_xlabel('epoch') ; ax.set_ylabel('Categorical Crossentropy Loss')\n",
        "x = list(range(1,epochs+1))\n",
        "vy = history.history['val_loss']\n",
        "ty = history.history['loss']\n",
        "plt_dynamic(x, vy, ty, ax)"
      ],
      "execution_count": 0,
      "outputs": [
        {
          "output_type": "stream",
          "text": [
            "WARNING:tensorflow:From /usr/local/lib/python3.6/dist-packages/keras/backend/tensorflow_backend.py:3733: calling dropout (from tensorflow.python.ops.nn_ops) with keep_prob is deprecated and will be removed in a future version.\n",
            "Instructions for updating:\n",
            "Please use `rate` instead of `keep_prob`. Rate should be set to `rate = 1 - keep_prob`.\n",
            "Train on 60000 samples, validate on 10000 samples\n",
            "Epoch 1/12\n",
            "60000/60000 [==============================] - 291s 5ms/step - loss: 0.2170 - acc: 0.9336 - val_loss: 0.0461 - val_acc: 0.9841\n",
            "Epoch 2/12\n",
            "60000/60000 [==============================] - 293s 5ms/step - loss: 0.0776 - acc: 0.9770 - val_loss: 0.0373 - val_acc: 0.9873\n",
            "Epoch 3/12\n",
            "60000/60000 [==============================] - 285s 5ms/step - loss: 0.0550 - acc: 0.9832 - val_loss: 0.0339 - val_acc: 0.9889\n",
            "Epoch 4/12\n",
            "60000/60000 [==============================] - 274s 5ms/step - loss: 0.0428 - acc: 0.9869 - val_loss: 0.0302 - val_acc: 0.9908\n",
            "Epoch 5/12\n",
            "60000/60000 [==============================] - 268s 4ms/step - loss: 0.0365 - acc: 0.9883 - val_loss: 0.0312 - val_acc: 0.9913\n",
            "Epoch 6/12\n",
            "60000/60000 [==============================] - 281s 5ms/step - loss: 0.0302 - acc: 0.9903 - val_loss: 0.0280 - val_acc: 0.9920\n",
            "Epoch 7/12\n",
            "60000/60000 [==============================] - 292s 5ms/step - loss: 0.0242 - acc: 0.9923 - val_loss: 0.0248 - val_acc: 0.9924\n",
            "Epoch 8/12\n",
            "60000/60000 [==============================] - 288s 5ms/step - loss: 0.0231 - acc: 0.9927 - val_loss: 0.0247 - val_acc: 0.9924\n",
            "Epoch 9/12\n",
            "60000/60000 [==============================] - 290s 5ms/step - loss: 0.0191 - acc: 0.9938 - val_loss: 0.0267 - val_acc: 0.9923\n",
            "Epoch 10/12\n",
            "60000/60000 [==============================] - 289s 5ms/step - loss: 0.0189 - acc: 0.9938 - val_loss: 0.0301 - val_acc: 0.9918\n",
            "Epoch 11/12\n",
            "60000/60000 [==============================] - 288s 5ms/step - loss: 0.0175 - acc: 0.9943 - val_loss: 0.0246 - val_acc: 0.9926\n",
            "Epoch 12/12\n",
            "60000/60000 [==============================] - 293s 5ms/step - loss: 0.0135 - acc: 0.9954 - val_loss: 0.0337 - val_acc: 0.9912\n",
            "Test loss: 0.03374763375438729\n",
            "Test accuracy: 0.9912\n"
          ],
          "name": "stdout"
        },
        {
          "output_type": "display_data",
          "data": {
            "image/png": "[encoded data removed]",
            "text/plain": [
              "<Figure size 432x288 with 1 Axes>"
            ]
          },
          "metadata": {
            "tags": []
          }
        }
      ]
    },
    {
      "cell_type": "markdown",
      "metadata": {
        "id": "fhoUb8YrCxMm",
        "colab_type": "text"
      },
      "source": [
        "## Architecture 1 with 2 Convolution Layers 4x4 Kernal + Dropout + Batch Normalization in Dense Layer"
      ]
    },
    {
      "cell_type": "code",
      "metadata": {
        "id": "fGR4oqQls3Jw",
        "colab_type": "code",
        "outputId": "704a0150-219a-48ef-92a2-1e18b02fb771",
        "colab": {
          "base_uri": "https://localhost:8080/",
          "height": 751
        }
      },
      "source": [
        "from keras.layers.normalization import BatchNormalization\n",
        "model = Sequential()\n",
        "model.add(Conv2D(32, (4, 4), padding=\"same\", activation=\"relu\",input_shape=input_shape))\n",
        "model.add(Conv2D(64, (4, 4), padding=\"same\", activation=\"relu\"))\n",
        "model.add(MaxPooling2D(pool_size=(2, 2)))\n",
        "model.add(Flatten())\n",
        "model.add(Dense(128, activation='relu'))\n",
        "model.add(BatchNormalization())\n",
        "model.add(Dropout(0.5))\n",
        "model.add(Dense(num_classes, activation='softmax'))\n",
        "\n",
        "model.compile(loss=keras.losses.categorical_crossentropy,\n",
        "              optimizer=keras.optimizers.Adam(),\n",
        "              metrics=['accuracy'])\n",
        "\n",
        "history = model.fit(x_train, y_train,\n",
        "          batch_size=batch_size,\n",
        "          epochs=epochs,\n",
        "          verbose=1,\n",
        "          validation_data=(x_test, y_test))\n",
        "\n",
        "score = model.evaluate(x_test, y_test, verbose=0)\n",
        "print('Test loss:', score[0])\n",
        "print('Test accuracy:', score[1])\n",
        "fig,ax = plt.subplots(1,1)\n",
        "ax.set_xlabel('epoch') ; ax.set_ylabel('Categorical Crossentropy Loss')\n",
        "x = list(range(1,epochs+1))\n",
        "vy = history.history['val_loss']\n",
        "ty = history.history['loss']\n",
        "plt_dynamic(x, vy, ty, ax)"
      ],
      "execution_count": 0,
      "outputs": [
        {
          "output_type": "stream",
          "text": [
            "Train on 60000 samples, validate on 10000 samples\n",
            "Epoch 1/12\n",
            "60000/60000 [==============================] - 291s 5ms/step - loss: 0.1303 - acc: 0.9618 - val_loss: 0.0458 - val_acc: 0.9848\n",
            "Epoch 2/12\n",
            "60000/60000 [==============================] - 281s 5ms/step - loss: 0.0489 - acc: 0.9856 - val_loss: 0.0318 - val_acc: 0.9895\n",
            "Epoch 3/12\n",
            "60000/60000 [==============================] - 273s 5ms/step - loss: 0.0362 - acc: 0.9892 - val_loss: 0.0286 - val_acc: 0.9907\n",
            "Epoch 4/12\n",
            "60000/60000 [==============================] - 265s 4ms/step - loss: 0.0253 - acc: 0.9930 - val_loss: 0.0260 - val_acc: 0.9917\n",
            "Epoch 5/12\n",
            "60000/60000 [==============================] - 261s 4ms/step - loss: 0.0188 - acc: 0.9945 - val_loss: 0.0292 - val_acc: 0.9908\n",
            "Epoch 6/12\n",
            "60000/60000 [==============================] - 269s 4ms/step - loss: 0.0163 - acc: 0.9951 - val_loss: 0.0374 - val_acc: 0.9889\n",
            "Epoch 7/12\n",
            "60000/60000 [==============================] - 266s 4ms/step - loss: 0.0146 - acc: 0.9955 - val_loss: 0.0331 - val_acc: 0.9903\n",
            "Epoch 8/12\n",
            "60000/60000 [==============================] - 268s 4ms/step - loss: 0.0147 - acc: 0.9951 - val_loss: 0.0279 - val_acc: 0.9905\n",
            "Epoch 9/12\n",
            "60000/60000 [==============================] - 259s 4ms/step - loss: 0.0119 - acc: 0.9963 - val_loss: 0.0269 - val_acc: 0.9916\n",
            "Epoch 10/12\n",
            "60000/60000 [==============================] - 257s 4ms/step - loss: 0.0096 - acc: 0.9970 - val_loss: 0.0298 - val_acc: 0.9908\n",
            "Epoch 11/12\n",
            "60000/60000 [==============================] - 261s 4ms/step - loss: 0.0088 - acc: 0.9974 - val_loss: 0.0377 - val_acc: 0.9890\n",
            "Epoch 12/12\n",
            "60000/60000 [==============================] - 258s 4ms/step - loss: 0.0075 - acc: 0.9976 - val_loss: 0.0302 - val_acc: 0.9908\n",
            "Test loss: 0.0302086725009819\n",
            "Test accuracy: 0.9908\n"
          ],
          "name": "stdout"
        },
        {
          "output_type": "display_data",
          "data": {
            "image/png": "[encoded data removed]",
            "text/plain": [
              "<Figure size 432x288 with 1 Axes>"
            ]
          },
          "metadata": {
            "tags": []
          }
        }
      ]
    },
    {
      "cell_type": "markdown",
      "metadata": {
        "id": "ymuDNQ5eC3Te",
        "colab_type": "text"
      },
      "source": [
        "## Architecture 1 with 2 Convolution Layers 4x4 Kernal + Dropouts in Dense Layer and after convolution layers"
      ]
    },
    {
      "cell_type": "code",
      "metadata": {
        "id": "WqvL-GDrAJ8R",
        "colab_type": "code",
        "outputId": "4348433c-5264-4180-ffcb-2214f2b95b19",
        "colab": {
          "base_uri": "https://localhost:8080/",
          "height": 806
        }
      },
      "source": [
        "model = Sequential()\n",
        "model.add(Conv2D(32, (4, 4), padding=\"same\", activation=\"relu\",input_shape=input_shape))\n",
        "model.add(Conv2D(64, (4, 4), padding=\"same\", activation=\"relu\"))\n",
        "model.add(MaxPooling2D(pool_size=(2, 2)))\n",
        "model.add(BatchNormalization())\n",
        "model.add(Dropout(0.5))\n",
        "model.add(Flatten())\n",
        "model.add(Dense(128, activation='relu'))\n",
        "model.add(BatchNormalization())\n",
        "model.add(Dropout(0.5))\n",
        "model.add(Dense(num_classes, activation='softmax'))\n",
        "\n",
        "model.compile(loss=keras.losses.categorical_crossentropy,\n",
        "              optimizer=keras.optimizers.Adam(),\n",
        "              metrics=['accuracy'])\n",
        "\n",
        "history = model.fit(x_train, y_train,\n",
        "          batch_size=batch_size,\n",
        "          epochs=epochs,\n",
        "          verbose=1,\n",
        "          validation_data=(x_test, y_test))\n",
        "\n",
        "score = model.evaluate(x_test, y_test, verbose=0)\n",
        "print('Test loss:', score[0])\n",
        "print('Test accuracy:', score[1])\n",
        "fig,ax = plt.subplots(1,1)\n",
        "ax.set_xlabel('epoch') ; ax.set_ylabel('Categorical Crossentropy Loss')\n",
        "x = list(range(1,epochs+1))\n",
        "vy = history.history['val_loss']\n",
        "ty = history.history['loss']\n",
        "plt_dynamic(x, vy, ty, ax)"
      ],
      "execution_count": 0,
      "outputs": [
        {
          "output_type": "stream",
          "text": [
            "WARNING:tensorflow:From /usr/local/lib/python3.6/dist-packages/keras/backend/tensorflow_backend.py:2041: The name tf.nn.fused_batch_norm is deprecated. Please use tf.compat.v1.nn.fused_batch_norm instead.\n",
            "\n",
            "Train on 60000 samples, validate on 10000 samples\n",
            "Epoch 1/12\n",
            "60000/60000 [==============================] - 282s 5ms/step - loss: 0.1695 - acc: 0.9489 - val_loss: 0.0380 - val_acc: 0.9877\n",
            "Epoch 2/12\n",
            "60000/60000 [==============================] - 283s 5ms/step - loss: 0.0638 - acc: 0.9805 - val_loss: 0.0364 - val_acc: 0.9889\n",
            "Epoch 3/12\n",
            "60000/60000 [==============================] - 270s 5ms/step - loss: 0.0507 - acc: 0.9843 - val_loss: 0.0342 - val_acc: 0.9892\n",
            "Epoch 4/12\n",
            "60000/60000 [==============================] - 270s 4ms/step - loss: 0.0408 - acc: 0.9877 - val_loss: 0.0281 - val_acc: 0.9906\n",
            "Epoch 5/12\n",
            "60000/60000 [==============================] - 265s 4ms/step - loss: 0.0381 - acc: 0.9880 - val_loss: 0.0250 - val_acc: 0.9919\n",
            "Epoch 6/12\n",
            "60000/60000 [==============================] - 263s 4ms/step - loss: 0.0330 - acc: 0.9895 - val_loss: 0.0364 - val_acc: 0.9878\n",
            "Epoch 7/12\n",
            "60000/60000 [==============================] - 265s 4ms/step - loss: 0.0292 - acc: 0.9902 - val_loss: 0.0337 - val_acc: 0.9906\n",
            "Epoch 8/12\n",
            "60000/60000 [==============================] - 257s 4ms/step - loss: 0.0261 - acc: 0.9918 - val_loss: 0.0265 - val_acc: 0.9910\n",
            "Epoch 9/12\n",
            "60000/60000 [==============================] - 255s 4ms/step - loss: 0.0254 - acc: 0.9918 - val_loss: 0.0238 - val_acc: 0.9925\n",
            "Epoch 10/12\n",
            "60000/60000 [==============================] - 254s 4ms/step - loss: 0.0224 - acc: 0.9926 - val_loss: 0.0227 - val_acc: 0.9928\n",
            "Epoch 11/12\n",
            "60000/60000 [==============================] - 254s 4ms/step - loss: 0.0191 - acc: 0.9936 - val_loss: 0.0263 - val_acc: 0.9913\n",
            "Epoch 12/12\n",
            "60000/60000 [==============================] - 255s 4ms/step - loss: 0.0200 - acc: 0.9931 - val_loss: 0.0247 - val_acc: 0.9928\n",
            "Test loss: 0.02471833272143922\n",
            "Test accuracy: 0.9928\n"
          ],
          "name": "stdout"
        },
        {
          "output_type": "display_data",
          "data": {
            "image/png": "[encoded data removed]",
            "text/plain": [
              "<Figure size 432x288 with 1 Axes>"
            ]
          },
          "metadata": {
            "tags": []
          }
        }
      ]
    },
    {
      "cell_type": "code",
      "metadata": {
        "id": "x3D5PTqnC-cS",
        "colab_type": "code",
        "outputId": "1284cd1a-7c91-4b71-fad1-4e4b7bd88567",
        "colab": {
          "base_uri": "https://localhost:8080/",
          "height": 156
        }
      },
      "source": [
        "from prettytable import PrettyTable\n",
        "    \n",
        "x = PrettyTable()\n",
        "\n",
        "x.field_names = [\"Architecture\", \"Kernals\", \"BatchNormalization\", \"Dropouts\", \"Loss\", \"Accuracy\"]\n",
        "\n",
        "x.add_row([\"2 Convolution Layers\",\"4x4\",\"No\",\"No\",\"0.0409\",\"0.9913\"])\n",
        "x.add_row([\"2 Convolution Layers\",\"4x4\",\"No\",\"Yes\",\"0.0337\",\"0.9912\"])\n",
        "x.add_row([\"2 Convolution Layers\",\"4x4\",\"Yes\",\"Yes\",\"0.0302\",\"0.9908\"])\n",
        "x.add_row([\"2 Convolution Layers\",\"4x4\",\"Yes\",\"Yes\",\"0.0247\",\"0.9928\"])\n",
        "print(x)\n"
      ],
      "execution_count": 0,
      "outputs": [
        {
          "output_type": "stream",
          "text": [
            "+----------------------+---------+--------------------+----------+--------+----------+\n",
            "|     Architecture     | Kernals | BatchNormalization | Dropouts |  Loss  | Accuracy |\n",
            "+----------------------+---------+--------------------+----------+--------+----------+\n",
            "| 2 Convolution Layers |   4x4   |         No         |    No    | 0.0409 |  0.9913  |\n",
            "| 2 Convolution Layers |   4x4   |         No         |   Yes    | 0.0337 |  0.9912  |\n",
            "| 2 Convolution Layers |   4x4   |        Yes         |   Yes    | 0.0302 |  0.9908  |\n",
            "| 2 Convolution Layers |   4x4   |        Yes         |   Yes    | 0.0247 |  0.9928  |\n",
            "+----------------------+---------+--------------------+----------+--------+----------+\n"
          ],
          "name": "stdout"
        }
      ]
    }
  ]
}