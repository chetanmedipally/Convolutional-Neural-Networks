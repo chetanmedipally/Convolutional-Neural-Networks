{
  "nbformat": 4,
  "nbformat_minor": 0,
  "metadata": {
    "colab": {
      "name": "CNN_MNIST_Architecture_2.ipynb",
      "provenance": [],
      "collapsed_sections": []
    },
    "kernelspec": {
      "display_name": "Python 3",
      "language": "python",
      "name": "python3"
    },
    "language_info": {
      "codemirror_mode": {
        "name": "ipython",
        "version": 3
      },
      "file_extension": ".py",
      "mimetype": "text/x-python",
      "name": "python",
      "nbconvert_exporter": "python",
      "pygments_lexer": "ipython3",
      "version": "3.7.3"
    }
  },
  "cells": [
    {
      "cell_type": "code",
      "metadata": {
        "id": "0e0UxGGGCXml",
        "colab_type": "code",
        "colab": {}
      },
      "source": [
        "from __future__ import print_function\n",
        "import keras\n",
        "from keras.datasets import mnist\n",
        "from keras.models import Sequential\n",
        "from keras.layers import Dense, Dropout, Flatten\n",
        "from keras.layers import Conv2D, MaxPooling2D\n",
        "from keras import backend as K"
      ],
      "execution_count": 0,
      "outputs": []
    },
    {
      "cell_type": "code",
      "metadata": {
        "id": "L7yDFeWwCXuU",
        "colab_type": "code",
        "colab": {}
      },
      "source": [
        "batch_size = 128\n",
        "num_classes = 10\n",
        "epochs = 12\n",
        "\n",
        "# input image dimensions\n",
        "img_rows, img_cols = 28, 28"
      ],
      "execution_count": 0,
      "outputs": []
    },
    {
      "cell_type": "code",
      "metadata": {
        "id": "0h5_OicwCX1T",
        "colab_type": "code",
        "outputId": "4d08e8e1-d94d-40e9-a433-f9bd948a5aaa",
        "colab": {
          "base_uri": "https://localhost:8080/",
          "height": 52
        }
      },
      "source": [
        "# the data, split between train and test sets\n",
        "(x_train, y_train), (x_test, y_test) = mnist.load_data()\n",
        "\n",
        "if K.image_data_format() == 'channels_first':\n",
        "    x_train = x_train.reshape(x_train.shape[0], 1, img_rows, img_cols)\n",
        "    x_test = x_test.reshape(x_test.shape[0], 1, img_rows, img_cols)\n",
        "    input_shape = (1, img_rows, img_cols)\n",
        "else:\n",
        "    x_train = x_train.reshape(x_train.shape[0], img_rows, img_cols, 1)\n",
        "    x_test = x_test.reshape(x_test.shape[0], img_rows, img_cols, 1)\n",
        "    input_shape = (img_rows, img_cols, 1)"
      ],
      "execution_count": 0,
      "outputs": [
        {
          "output_type": "stream",
          "text": [
            "Downloading data from https://s3.amazonaws.com/img-datasets/mnist.npz\n",
            "11493376/11490434 [==============================] - 1s 0us/step\n"
          ],
          "name": "stdout"
        }
      ]
    },
    {
      "cell_type": "code",
      "metadata": {
        "id": "7KTuXhf6CX85",
        "colab_type": "code",
        "outputId": "dd5f9818-0146-40c4-ed95-dd0d67cdda05",
        "colab": {
          "base_uri": "https://localhost:8080/",
          "height": 69
        }
      },
      "source": [
        "x_train = x_train.astype('float32')\n",
        "x_test = x_test.astype('float32')\n",
        "x_train /= 255\n",
        "x_test /= 255\n",
        "print('x_train shape:', x_train.shape)\n",
        "print(x_train.shape[0], 'train samples')\n",
        "print(x_test.shape[0], 'test samples')"
      ],
      "execution_count": 0,
      "outputs": [
        {
          "output_type": "stream",
          "text": [
            "x_train shape: (60000, 28, 28, 1)\n",
            "60000 train samples\n",
            "10000 test samples\n"
          ],
          "name": "stdout"
        }
      ]
    },
    {
      "cell_type": "code",
      "metadata": {
        "id": "m4hjprOyCYEs",
        "colab_type": "code",
        "colab": {}
      },
      "source": [
        "# convert class vectors to binary class matrices\n",
        "y_train = keras.utils.to_categorical(y_train, num_classes)\n",
        "y_test = keras.utils.to_categorical(y_test, num_classes)"
      ],
      "execution_count": 0,
      "outputs": []
    },
    {
      "cell_type": "markdown",
      "metadata": {
        "id": "craZZjqxC0eD",
        "colab_type": "text"
      },
      "source": [
        "## Architecture 2 with 4 Convolution Layers 5x5 Kernal"
      ]
    },
    {
      "cell_type": "code",
      "metadata": {
        "id": "3vLTcZHCCYLt",
        "colab_type": "code",
        "outputId": "2d427aae-c4b1-44bc-d48b-f864ed22a6f3",
        "colab": {
          "base_uri": "https://localhost:8080/",
          "height": 800
        }
      },
      "source": [
        "model = Sequential()\n",
        "model.add(Conv2D(32, (5, 5), padding=\"same\", activation=\"relu\",input_shape=input_shape))\n",
        "model.add(Conv2D(64, (5, 5), padding=\"same\", activation=\"relu\"))\n",
        "model.add(MaxPooling2D(pool_size=(2, 2)))\n",
        "model.add(Conv2D(128, (5, 5), padding=\"same\", activation=\"relu\"))\n",
        "model.add(Conv2D(256, (5, 5), padding=\"same\", activation=\"relu\"))\n",
        "model.add(MaxPooling2D(pool_size=(2, 2)))\n",
        "model.add(Flatten())\n",
        "model.add(Dense(256, activation='relu'))\n",
        "model.add(Dense(num_classes, activation='softmax'))\n",
        "\n",
        "model.compile(loss=keras.losses.categorical_crossentropy,\n",
        "              optimizer=keras.optimizers.Adam(),\n",
        "              metrics=['accuracy'])\n",
        "\n",
        "model.fit(x_train, y_train,\n",
        "          batch_size=batch_size,\n",
        "          epochs=epochs,\n",
        "          verbose=1,\n",
        "          validation_data=(x_test, y_test))\n",
        "\n",
        "score = model.evaluate(x_test, y_test, verbose=0)\n",
        "print('Test loss:', score[0])\n",
        "print('Test accuracy:', score[1])"
      ],
      "execution_count": 0,
      "outputs": [
        {
          "output_type": "stream",
          "text": [
            "WARNING:tensorflow:From /usr/local/lib/python3.6/dist-packages/keras/backend/tensorflow_backend.py:66: The name tf.get_default_graph is deprecated. Please use tf.compat.v1.get_default_graph instead.\n",
            "\n",
            "WARNING:tensorflow:From /usr/local/lib/python3.6/dist-packages/keras/backend/tensorflow_backend.py:541: The name tf.placeholder is deprecated. Please use tf.compat.v1.placeholder instead.\n",
            "\n",
            "WARNING:tensorflow:From /usr/local/lib/python3.6/dist-packages/keras/backend/tensorflow_backend.py:4432: The name tf.random_uniform is deprecated. Please use tf.random.uniform instead.\n",
            "\n",
            "WARNING:tensorflow:From /usr/local/lib/python3.6/dist-packages/keras/backend/tensorflow_backend.py:4267: The name tf.nn.max_pool is deprecated. Please use tf.nn.max_pool2d instead.\n",
            "\n",
            "WARNING:tensorflow:From /usr/local/lib/python3.6/dist-packages/keras/optimizers.py:793: The name tf.train.Optimizer is deprecated. Please use tf.compat.v1.train.Optimizer instead.\n",
            "\n",
            "WARNING:tensorflow:From /usr/local/lib/python3.6/dist-packages/keras/backend/tensorflow_backend.py:3576: The name tf.log is deprecated. Please use tf.math.log instead.\n",
            "\n",
            "WARNING:tensorflow:From /usr/local/lib/python3.6/dist-packages/tensorflow/python/ops/math_grad.py:1250: add_dispatch_support.<locals>.wrapper (from tensorflow.python.ops.array_ops) is deprecated and will be removed in a future version.\n",
            "Instructions for updating:\n",
            "Use tf.where in 2.0, which has the same broadcast rule as np.where\n",
            "WARNING:tensorflow:From /usr/local/lib/python3.6/dist-packages/keras/backend/tensorflow_backend.py:1033: The name tf.assign_add is deprecated. Please use tf.compat.v1.assign_add instead.\n",
            "\n",
            "Train on 60000 samples, validate on 10000 samples\n",
            "Epoch 1/12\n",
            "60000/60000 [==============================] - 2142s 36ms/step - loss: 0.1304 - acc: 0.9597 - val_loss: 0.0347 - val_acc: 0.9881\n",
            "Epoch 2/12\n",
            "60000/60000 [==============================] - 2154s 36ms/step - loss: 0.0380 - acc: 0.9886 - val_loss: 0.0269 - val_acc: 0.9912\n",
            "Epoch 3/12\n",
            "60000/60000 [==============================] - 2167s 36ms/step - loss: 0.0251 - acc: 0.9922 - val_loss: 0.0302 - val_acc: 0.9914\n",
            "Epoch 4/12\n",
            "60000/60000 [==============================] - 2110s 35ms/step - loss: 0.0207 - acc: 0.9934 - val_loss: 0.0213 - val_acc: 0.9934\n",
            "Epoch 5/12\n",
            "60000/60000 [==============================] - 2116s 35ms/step - loss: 0.0147 - acc: 0.9955 - val_loss: 0.0334 - val_acc: 0.9897\n",
            "Epoch 6/12\n",
            "60000/60000 [==============================] - 2118s 35ms/step - loss: 0.0130 - acc: 0.9960 - val_loss: 0.0339 - val_acc: 0.9900\n",
            "Epoch 7/12\n",
            "60000/60000 [==============================] - 2129s 35ms/step - loss: 0.0156 - acc: 0.9951 - val_loss: 0.0313 - val_acc: 0.9914\n",
            "Epoch 8/12\n",
            "60000/60000 [==============================] - 2123s 35ms/step - loss: 0.0107 - acc: 0.9968 - val_loss: 0.0294 - val_acc: 0.9923\n",
            "Epoch 9/12\n",
            "60000/60000 [==============================] - 2125s 35ms/step - loss: 0.0100 - acc: 0.9969 - val_loss: 0.0304 - val_acc: 0.9923\n",
            "Epoch 10/12\n",
            "60000/60000 [==============================] - 2110s 35ms/step - loss: 0.0104 - acc: 0.9971 - val_loss: 0.0326 - val_acc: 0.9914\n",
            "Epoch 11/12\n",
            "60000/60000 [==============================] - 2107s 35ms/step - loss: 0.0079 - acc: 0.9978 - val_loss: 0.0228 - val_acc: 0.9941\n",
            "Epoch 12/12\n",
            "60000/60000 [==============================] - 2125s 35ms/step - loss: 0.0113 - acc: 0.9966 - val_loss: 0.0412 - val_acc: 0.9912\n",
            "Test loss: 0.0412457944239733\n",
            "Test accuracy: 0.9912\n"
          ],
          "name": "stdout"
        }
      ]
    },
    {
      "cell_type": "markdown",
      "metadata": {
        "id": "dMh3cfNyFTu2",
        "colab_type": "text"
      },
      "source": [
        "## Architecture 2 with 4 Convolution Layers 5x5 Kernal + Dropouts + Batch Normalization in Dense Layer and after Convolution Layers"
      ]
    },
    {
      "cell_type": "code",
      "metadata": {
        "id": "DvQVoyR4NENC",
        "colab_type": "code",
        "outputId": "31b522ff-3510-432d-fa86-db5ce05abadb",
        "colab": {
          "base_uri": "https://localhost:8080/",
          "height": 887
        }
      },
      "source": [
        "from keras.layers.normalization import BatchNormalization\n",
        "model = Sequential()\n",
        "model.add(Conv2D(32, (5, 5), padding=\"same\", activation=\"relu\",input_shape=input_shape))\n",
        "model.add(Conv2D(64, (5, 5), padding=\"same\", activation=\"relu\"))\n",
        "model.add(MaxPooling2D(pool_size=(2, 2)))\n",
        "model.add(BatchNormalization())\n",
        "model.add(Dropout(0.5))\n",
        "model.add(Conv2D(128, (5, 5), padding=\"same\", activation=\"relu\"))\n",
        "model.add(Conv2D(256, (5, 5), padding=\"same\", activation=\"relu\"))\n",
        "model.add(MaxPooling2D(pool_size=(2, 2)))\n",
        "model.add(BatchNormalization())\n",
        "model.add(Dropout(0.5))\n",
        "model.add(Flatten())\n",
        "model.add(Dense(256, activation='relu'))\n",
        "model.add(BatchNormalization())\n",
        "model.add(Dropout(0.5))\n",
        "model.add(Dense(num_classes, activation='softmax'))\n",
        "\n",
        "model.compile(loss=keras.losses.categorical_crossentropy,\n",
        "              optimizer=keras.optimizers.Adam(),\n",
        "              metrics=['accuracy'])\n",
        "\n",
        "model.fit(x_train, y_train,\n",
        "          batch_size=batch_size,\n",
        "          epochs=epochs,\n",
        "          verbose=1,\n",
        "          validation_data=(x_test, y_test))\n",
        "\n",
        "score = model.evaluate(x_test, y_test, verbose=0)\n",
        "print('Test loss:', score[0])\n",
        "print('Test accuracy:', score[1])"
      ],
      "execution_count": 0,
      "outputs": [
        {
          "output_type": "stream",
          "text": [
            "WARNING:tensorflow:From /usr/local/lib/python3.6/dist-packages/keras/backend/tensorflow_backend.py:66: The name tf.get_default_graph is deprecated. Please use tf.compat.v1.get_default_graph instead.\n",
            "\n",
            "WARNING:tensorflow:From /usr/local/lib/python3.6/dist-packages/keras/backend/tensorflow_backend.py:541: The name tf.placeholder is deprecated. Please use tf.compat.v1.placeholder instead.\n",
            "\n",
            "WARNING:tensorflow:From /usr/local/lib/python3.6/dist-packages/keras/backend/tensorflow_backend.py:4432: The name tf.random_uniform is deprecated. Please use tf.random.uniform instead.\n",
            "\n",
            "WARNING:tensorflow:From /usr/local/lib/python3.6/dist-packages/keras/backend/tensorflow_backend.py:4267: The name tf.nn.max_pool is deprecated. Please use tf.nn.max_pool2d instead.\n",
            "\n",
            "WARNING:tensorflow:From /usr/local/lib/python3.6/dist-packages/keras/backend/tensorflow_backend.py:190: The name tf.get_default_session is deprecated. Please use tf.compat.v1.get_default_session instead.\n",
            "\n",
            "WARNING:tensorflow:From /usr/local/lib/python3.6/dist-packages/keras/backend/tensorflow_backend.py:197: The name tf.ConfigProto is deprecated. Please use tf.compat.v1.ConfigProto instead.\n",
            "\n",
            "WARNING:tensorflow:From /usr/local/lib/python3.6/dist-packages/keras/backend/tensorflow_backend.py:2041: The name tf.nn.fused_batch_norm is deprecated. Please use tf.compat.v1.nn.fused_batch_norm instead.\n",
            "\n",
            "WARNING:tensorflow:From /usr/local/lib/python3.6/dist-packages/keras/backend/tensorflow_backend.py:3733: calling dropout (from tensorflow.python.ops.nn_ops) with keep_prob is deprecated and will be removed in a future version.\n",
            "Instructions for updating:\n",
            "Please use `rate` instead of `keep_prob`. Rate should be set to `rate = 1 - keep_prob`.\n",
            "WARNING:tensorflow:From /usr/local/lib/python3.6/dist-packages/keras/optimizers.py:793: The name tf.train.Optimizer is deprecated. Please use tf.compat.v1.train.Optimizer instead.\n",
            "\n",
            "WARNING:tensorflow:From /usr/local/lib/python3.6/dist-packages/tensorflow/python/ops/math_grad.py:1250: add_dispatch_support.<locals>.wrapper (from tensorflow.python.ops.array_ops) is deprecated and will be removed in a future version.\n",
            "Instructions for updating:\n",
            "Use tf.where in 2.0, which has the same broadcast rule as np.where\n",
            "Train on 60000 samples, validate on 10000 samples\n",
            "Epoch 1/12\n",
            "60000/60000 [==============================] - 2142s 36ms/step - loss: 0.1559 - acc: 0.9526 - val_loss: 0.0412 - val_acc: 0.9867\n",
            "Epoch 2/12\n",
            "60000/60000 [==============================] - 2142s 36ms/step - loss: 0.0528 - acc: 0.9840 - val_loss: 0.0301 - val_acc: 0.9898\n",
            "Epoch 3/12\n",
            "60000/60000 [==============================] - 2134s 36ms/step - loss: 0.0416 - acc: 0.9872 - val_loss: 0.0400 - val_acc: 0.9879\n",
            "Epoch 4/12\n",
            "60000/60000 [==============================] - 2132s 36ms/step - loss: 0.0330 - acc: 0.9899 - val_loss: 0.0362 - val_acc: 0.9880\n",
            "Epoch 5/12\n",
            "60000/60000 [==============================] - 2119s 35ms/step - loss: 0.0317 - acc: 0.9901 - val_loss: 0.0220 - val_acc: 0.9922\n",
            "Epoch 6/12\n",
            "60000/60000 [==============================] - 2127s 35ms/step - loss: 0.0287 - acc: 0.9913 - val_loss: 0.0160 - val_acc: 0.9953\n",
            "Epoch 7/12\n",
            "60000/60000 [==============================] - 2141s 36ms/step - loss: 0.0263 - acc: 0.9917 - val_loss: 0.0194 - val_acc: 0.9945\n",
            "Epoch 8/12\n",
            "60000/60000 [==============================] - 2151s 36ms/step - loss: 0.0242 - acc: 0.9926 - val_loss: 0.0190 - val_acc: 0.9945\n",
            "Epoch 9/12\n",
            "60000/60000 [==============================] - 2150s 36ms/step - loss: 0.0238 - acc: 0.9926 - val_loss: 0.0190 - val_acc: 0.9944\n",
            "Epoch 10/12\n",
            "60000/60000 [==============================] - 2159s 36ms/step - loss: 0.0223 - acc: 0.9927 - val_loss: 0.0195 - val_acc: 0.9935\n",
            "Epoch 11/12\n",
            "60000/60000 [==============================] - 2133s 36ms/step - loss: 0.0200 - acc: 0.9937 - val_loss: 0.0166 - val_acc: 0.9955\n",
            "Epoch 12/12\n",
            "60000/60000 [==============================] - 2149s 36ms/step - loss: 0.0184 - acc: 0.9942 - val_loss: 0.0170 - val_acc: 0.9951\n",
            "Test loss: 0.016955696813946996\n",
            "Test accuracy: 0.9951\n"
          ],
          "name": "stdout"
        }
      ]
    },
    {
      "cell_type": "code",
      "metadata": {
        "id": "2bTUYNEWFjLF",
        "colab_type": "code",
        "outputId": "1181fef9-b853-439d-b2d8-0240dff388cd",
        "colab": {
          "base_uri": "https://localhost:8080/",
          "height": 121
        }
      },
      "source": [
        "from prettytable import PrettyTable\n",
        "    \n",
        "x = PrettyTable()\n",
        "\n",
        "x.field_names = [\"Architecture\", \"Kernals\", \"BatchNormalization\", \"Dropouts\", \"Loss\", \"Accuracy\"]\n",
        "\n",
        "x.add_row([\"2 Convolution Layers\",\"5x5\",\"No\",\"No\",\"0.0412\",\"0.9912\"])\n",
        "x.add_row([\"2 Convolution Layers\",\"5x5\",\"Yes\",\"Yes\",\"0.0170\",\"0.9951\"])\n",
        "print(x)\n"
      ],
      "execution_count": 0,
      "outputs": [
        {
          "output_type": "stream",
          "text": [
            "+----------------------+---------+--------------------+----------+--------+----------+\n",
            "|     Architecture     | Kernals | BatchNormalization | Dropouts |  Loss  | Accuracy |\n",
            "+----------------------+---------+--------------------+----------+--------+----------+\n",
            "| 2 Convolution Layers |   5x5   |         No         |    No    | 0.0412 |  0.9912  |\n",
            "| 2 Convolution Layers |   5x5   |        Yes         |   Yes    | 0.0170 |  0.9951  |\n",
            "+----------------------+---------+--------------------+----------+--------+----------+\n"
          ],
          "name": "stdout"
        }
      ]
    }
  ]
}