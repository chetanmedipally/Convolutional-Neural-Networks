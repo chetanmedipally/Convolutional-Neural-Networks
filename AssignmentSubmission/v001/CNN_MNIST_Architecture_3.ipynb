{
  "nbformat": 4,
  "nbformat_minor": 0,
  "metadata": {
    "colab": {
      "name": "CNN_MNIST_Architecture_3.ipynb",
      "provenance": [],
      "collapsed_sections": []
    },
    "kernelspec": {
      "display_name": "Python 3",
      "language": "python",
      "name": "python3"
    },
    "language_info": {
      "codemirror_mode": {
        "name": "ipython",
        "version": 3
      },
      "file_extension": ".py",
      "mimetype": "text/x-python",
      "name": "python",
      "nbconvert_exporter": "python",
      "pygments_lexer": "ipython3",
      "version": "3.7.3"
    }
  },
  "cells": [
    {
      "cell_type": "code",
      "metadata": {
        "id": "0e0UxGGGCXml",
        "colab_type": "code",
        "outputId": "d001f741-08e0-4087-c9bc-97546aba21d4",
        "colab": {
          "base_uri": "https://localhost:8080/",
          "height": 35
        }
      },
      "source": [
        "from __future__ import print_function\n",
        "import keras\n",
        "from keras.datasets import mnist\n",
        "from keras.models import Sequential\n",
        "from keras.layers import Dense, Dropout, Flatten\n",
        "from keras.layers import Conv2D, MaxPooling2D\n",
        "from keras import backend as K"
      ],
      "execution_count": 0,
      "outputs": [
        {
          "output_type": "stream",
          "text": [
            "Using TensorFlow backend.\n"
          ],
          "name": "stderr"
        }
      ]
    },
    {
      "cell_type": "code",
      "metadata": {
        "id": "L7yDFeWwCXuU",
        "colab_type": "code",
        "colab": {}
      },
      "source": [
        "batch_size = 128\n",
        "num_classes = 10\n",
        "epochs = 12\n",
        "\n",
        "# input image dimensions\n",
        "img_rows, img_cols = 28, 28"
      ],
      "execution_count": 0,
      "outputs": []
    },
    {
      "cell_type": "code",
      "metadata": {
        "id": "0h5_OicwCX1T",
        "colab_type": "code",
        "outputId": "4854d765-e622-4fe8-f3e6-5d91520a5add",
        "colab": {
          "base_uri": "https://localhost:8080/",
          "height": 52
        }
      },
      "source": [
        "# the data, split between train and test sets\n",
        "(x_train, y_train), (x_test, y_test) = mnist.load_data()\n",
        "\n",
        "if K.image_data_format() == 'channels_first':\n",
        "    x_train = x_train.reshape(x_train.shape[0], 1, img_rows, img_cols)\n",
        "    x_test = x_test.reshape(x_test.shape[0], 1, img_rows, img_cols)\n",
        "    input_shape = (1, img_rows, img_cols)\n",
        "else:\n",
        "    x_train = x_train.reshape(x_train.shape[0], img_rows, img_cols, 1)\n",
        "    x_test = x_test.reshape(x_test.shape[0], img_rows, img_cols, 1)\n",
        "    input_shape = (img_rows, img_cols, 1)"
      ],
      "execution_count": 0,
      "outputs": [
        {
          "output_type": "stream",
          "text": [
            "Downloading data from https://s3.amazonaws.com/img-datasets/mnist.npz\n",
            "11493376/11490434 [==============================] - 0s 0us/step\n"
          ],
          "name": "stdout"
        }
      ]
    },
    {
      "cell_type": "code",
      "metadata": {
        "id": "7KTuXhf6CX85",
        "colab_type": "code",
        "outputId": "55e6fa0a-77c9-47fe-ede0-119e9360f95f",
        "colab": {
          "base_uri": "https://localhost:8080/",
          "height": 69
        }
      },
      "source": [
        "x_train = x_train.astype('float32')\n",
        "x_test = x_test.astype('float32')\n",
        "x_train /= 255\n",
        "x_test /= 255\n",
        "print('x_train shape:', x_train.shape)\n",
        "print(x_train.shape[0], 'train samples')\n",
        "print(x_test.shape[0], 'test samples')"
      ],
      "execution_count": 0,
      "outputs": [
        {
          "output_type": "stream",
          "text": [
            "x_train shape: (60000, 28, 28, 1)\n",
            "60000 train samples\n",
            "10000 test samples\n"
          ],
          "name": "stdout"
        }
      ]
    },
    {
      "cell_type": "code",
      "metadata": {
        "id": "m4hjprOyCYEs",
        "colab_type": "code",
        "colab": {}
      },
      "source": [
        "# convert class vectors to binary class matrices\n",
        "y_train = keras.utils.to_categorical(y_train, num_classes)\n",
        "y_test = keras.utils.to_categorical(y_test, num_classes)"
      ],
      "execution_count": 0,
      "outputs": []
    },
    {
      "cell_type": "markdown",
      "metadata": {
        "id": "craZZjqxC0eD",
        "colab_type": "text"
      },
      "source": [
        "## Architecture 3 with 3 Convolution Layers 6x6 Kernal"
      ]
    },
    {
      "cell_type": "code",
      "metadata": {
        "id": "3vLTcZHCCYLt",
        "colab_type": "code",
        "outputId": "c57cbabb-5899-4db1-e7f4-535d6a0099e7",
        "colab": {
          "base_uri": "https://localhost:8080/",
          "height": 800
        }
      },
      "source": [
        "model = Sequential()\n",
        "model.add(Conv2D(32, (6, 6), padding=\"same\", activation=\"relu\",input_shape=input_shape))\n",
        "model.add(Conv2D(64, (6, 6), padding=\"same\", activation=\"relu\"))\n",
        "model.add(MaxPooling2D(pool_size=(2, 2)))\n",
        "model.add(Conv2D(128, (6, 6), padding=\"same\", activation=\"relu\"))\n",
        "model.add(MaxPooling2D(pool_size=(2, 2)))\n",
        "model.add(Flatten())\n",
        "model.add(Dense(32, activation='relu'))\n",
        "model.add(Dense(num_classes, activation='softmax'))\n",
        "\n",
        "model.compile(loss=keras.losses.categorical_crossentropy,\n",
        "              optimizer=keras.optimizers.Adam(),\n",
        "              metrics=['accuracy'])\n",
        "\n",
        "model.fit(x_train, y_train,\n",
        "          batch_size=batch_size,\n",
        "          epochs=epochs,\n",
        "          verbose=1,\n",
        "          validation_data=(x_test, y_test))\n",
        "\n",
        "score = model.evaluate(x_test, y_test, verbose=0)\n",
        "print('Test loss:', score[0])\n",
        "print('Test accuracy:', score[1])"
      ],
      "execution_count": 0,
      "outputs": [
        {
          "output_type": "stream",
          "text": [
            "WARNING:tensorflow:From /usr/local/lib/python3.6/dist-packages/keras/backend/tensorflow_backend.py:66: The name tf.get_default_graph is deprecated. Please use tf.compat.v1.get_default_graph instead.\n",
            "\n",
            "WARNING:tensorflow:From /usr/local/lib/python3.6/dist-packages/keras/backend/tensorflow_backend.py:541: The name tf.placeholder is deprecated. Please use tf.compat.v1.placeholder instead.\n",
            "\n",
            "WARNING:tensorflow:From /usr/local/lib/python3.6/dist-packages/keras/backend/tensorflow_backend.py:4432: The name tf.random_uniform is deprecated. Please use tf.random.uniform instead.\n",
            "\n",
            "WARNING:tensorflow:From /usr/local/lib/python3.6/dist-packages/keras/backend/tensorflow_backend.py:4267: The name tf.nn.max_pool is deprecated. Please use tf.nn.max_pool2d instead.\n",
            "\n",
            "WARNING:tensorflow:From /usr/local/lib/python3.6/dist-packages/keras/optimizers.py:793: The name tf.train.Optimizer is deprecated. Please use tf.compat.v1.train.Optimizer instead.\n",
            "\n",
            "WARNING:tensorflow:From /usr/local/lib/python3.6/dist-packages/keras/backend/tensorflow_backend.py:3576: The name tf.log is deprecated. Please use tf.math.log instead.\n",
            "\n",
            "WARNING:tensorflow:From /usr/local/lib/python3.6/dist-packages/tensorflow/python/ops/math_grad.py:1250: add_dispatch_support.<locals>.wrapper (from tensorflow.python.ops.array_ops) is deprecated and will be removed in a future version.\n",
            "Instructions for updating:\n",
            "Use tf.where in 2.0, which has the same broadcast rule as np.where\n",
            "WARNING:tensorflow:From /usr/local/lib/python3.6/dist-packages/keras/backend/tensorflow_backend.py:1033: The name tf.assign_add is deprecated. Please use tf.compat.v1.assign_add instead.\n",
            "\n",
            "Train on 60000 samples, validate on 10000 samples\n",
            "Epoch 1/12\n",
            "60000/60000 [==============================] - 1065s 18ms/step - loss: 0.1682 - acc: 0.9461 - val_loss: 0.0484 - val_acc: 0.9847\n",
            "Epoch 2/12\n",
            "60000/60000 [==============================] - 1070s 18ms/step - loss: 0.0456 - acc: 0.9859 - val_loss: 0.0391 - val_acc: 0.9871\n",
            "Epoch 3/12\n",
            "60000/60000 [==============================] - 1073s 18ms/step - loss: 0.0302 - acc: 0.9905 - val_loss: 0.0431 - val_acc: 0.9866\n",
            "Epoch 4/12\n",
            "60000/60000 [==============================] - 1067s 18ms/step - loss: 0.0214 - acc: 0.9932 - val_loss: 0.0369 - val_acc: 0.9892\n",
            "Epoch 5/12\n",
            "60000/60000 [==============================] - 1063s 18ms/step - loss: 0.0180 - acc: 0.9940 - val_loss: 0.0295 - val_acc: 0.9917\n",
            "Epoch 6/12\n",
            "60000/60000 [==============================] - 1065s 18ms/step - loss: 0.0136 - acc: 0.9957 - val_loss: 0.0309 - val_acc: 0.9904\n",
            "Epoch 7/12\n",
            "60000/60000 [==============================] - 1070s 18ms/step - loss: 0.0121 - acc: 0.9962 - val_loss: 0.0196 - val_acc: 0.9944\n",
            "Epoch 8/12\n",
            "60000/60000 [==============================] - 1068s 18ms/step - loss: 0.0114 - acc: 0.9964 - val_loss: 0.0253 - val_acc: 0.9930\n",
            "Epoch 9/12\n",
            "60000/60000 [==============================] - 1068s 18ms/step - loss: 0.0096 - acc: 0.9969 - val_loss: 0.0342 - val_acc: 0.9916\n",
            "Epoch 10/12\n",
            "60000/60000 [==============================] - 1066s 18ms/step - loss: 0.0076 - acc: 0.9978 - val_loss: 0.0345 - val_acc: 0.9906\n",
            "Epoch 11/12\n",
            "60000/60000 [==============================] - 1067s 18ms/step - loss: 0.0069 - acc: 0.9980 - val_loss: 0.0294 - val_acc: 0.9930\n",
            "Epoch 12/12\n",
            "60000/60000 [==============================] - 1066s 18ms/step - loss: 0.0055 - acc: 0.9984 - val_loss: 0.0446 - val_acc: 0.9893\n",
            "Test loss: 0.04455013964639284\n",
            "Test accuracy: 0.9893\n"
          ],
          "name": "stdout"
        }
      ]
    },
    {
      "cell_type": "markdown",
      "metadata": {
        "id": "xMTtf2BpGcS5",
        "colab_type": "text"
      },
      "source": [
        "## Architecture 3 with 3 Convolution Layers 6x6 Kernal + Dropouts in Dense Layer"
      ]
    },
    {
      "cell_type": "code",
      "metadata": {
        "id": "NnbF9wFzUvab",
        "colab_type": "code",
        "outputId": "3c3c5c0c-fe91-4c5c-f985-177560a6c4e8",
        "colab": {
          "base_uri": "https://localhost:8080/",
          "height": 485
        }
      },
      "source": [
        "model = Sequential()\n",
        "model.add(Conv2D(32, (6, 6), padding=\"same\", activation=\"relu\",input_shape=input_shape))\n",
        "model.add(Conv2D(64, (6, 6), padding=\"same\", activation=\"relu\"))\n",
        "model.add(MaxPooling2D(pool_size=(2, 2)))\n",
        "model.add(Conv2D(128, (6, 6), padding=\"same\", activation=\"relu\"))\n",
        "model.add(MaxPooling2D(pool_size=(2, 2)))\n",
        "model.add(Flatten())\n",
        "model.add(Dense(32, activation='relu'))\n",
        "model.add(Dropout(0.5))\n",
        "model.add(Dense(num_classes, activation='softmax'))\n",
        "\n",
        "model.compile(loss=keras.losses.categorical_crossentropy,\n",
        "              optimizer=keras.optimizers.Adam(),\n",
        "              metrics=['accuracy'])\n",
        "\n",
        "model.fit(x_train, y_train,\n",
        "          batch_size=batch_size,\n",
        "          epochs=epochs,\n",
        "          verbose=1,\n",
        "          validation_data=(x_test, y_test))\n",
        "\n",
        "score = model.evaluate(x_test, y_test, verbose=0)\n",
        "print('Test loss:', score[0])\n",
        "print('Test accuracy:', score[1])"
      ],
      "execution_count": 0,
      "outputs": [
        {
          "output_type": "stream",
          "text": [
            "Train on 60000 samples, validate on 10000 samples\n",
            "Epoch 1/12\n",
            "60000/60000 [==============================] - 1073s 18ms/step - loss: 0.6055 - acc: 0.7759 - val_loss: 0.0469 - val_acc: 0.9862\n",
            "Epoch 2/12\n",
            "60000/60000 [==============================] - 1080s 18ms/step - loss: 0.2917 - acc: 0.8872 - val_loss: 0.0360 - val_acc: 0.9880\n",
            "Epoch 3/12\n",
            "60000/60000 [==============================] - 1064s 18ms/step - loss: 0.1995 - acc: 0.9225 - val_loss: 0.0358 - val_acc: 0.9891\n",
            "Epoch 4/12\n",
            "60000/60000 [==============================] - 1064s 18ms/step - loss: 0.1657 - acc: 0.9371 - val_loss: 0.0282 - val_acc: 0.9918\n",
            "Epoch 5/12\n",
            "60000/60000 [==============================] - 1075s 18ms/step - loss: 0.1451 - acc: 0.9438 - val_loss: 0.0300 - val_acc: 0.9925\n",
            "Epoch 6/12\n",
            "60000/60000 [==============================] - 1065s 18ms/step - loss: 0.1163 - acc: 0.9560 - val_loss: 0.0284 - val_acc: 0.9937\n",
            "Epoch 7/12\n",
            "60000/60000 [==============================] - 1065s 18ms/step - loss: 0.1020 - acc: 0.9626 - val_loss: 0.0264 - val_acc: 0.9937\n",
            "Epoch 8/12\n",
            "60000/60000 [==============================] - 1060s 18ms/step - loss: 0.0876 - acc: 0.9675 - val_loss: 0.0281 - val_acc: 0.9945\n",
            "Epoch 9/12\n",
            "60000/60000 [==============================] - 1076s 18ms/step - loss: 0.0779 - acc: 0.9720 - val_loss: 0.0292 - val_acc: 0.9929\n",
            "Epoch 10/12\n",
            "60000/60000 [==============================] - 1064s 18ms/step - loss: 0.0701 - acc: 0.9737 - val_loss: 0.0240 - val_acc: 0.9950\n",
            "Epoch 11/12\n",
            "60000/60000 [==============================] - 1086s 18ms/step - loss: 0.0685 - acc: 0.9735 - val_loss: 0.0358 - val_acc: 0.9910\n",
            "Epoch 12/12\n",
            "60000/60000 [==============================] - 1063s 18ms/step - loss: 0.0619 - acc: 0.9770 - val_loss: 0.0269 - val_acc: 0.9943\n",
            "Test loss: 0.026878193433550496\n",
            "Test accuracy: 0.9943\n"
          ],
          "name": "stdout"
        }
      ]
    },
    {
      "cell_type": "markdown",
      "metadata": {
        "id": "zrw7vf3UGn6g",
        "colab_type": "text"
      },
      "source": [
        "## Architecture 3 with 3 Convolution Layers 6x6 Kernal + Dropout + Batch Normalization in Dense Layer"
      ]
    },
    {
      "cell_type": "code",
      "metadata": {
        "id": "86x14CDcUu-F",
        "colab_type": "code",
        "outputId": "0c0ed989-a30f-4fa3-e05c-babfd9d47eb0",
        "colab": {
          "base_uri": "https://localhost:8080/",
          "height": 713
        }
      },
      "source": [
        "from keras.layers.normalization import BatchNormalization\n",
        "model = Sequential()\n",
        "model.add(Conv2D(32, (6, 6), padding=\"same\", activation=\"relu\",input_shape=input_shape))\n",
        "model.add(Conv2D(64, (6, 6), padding=\"same\", activation=\"relu\"))\n",
        "model.add(MaxPooling2D(pool_size=(2, 2)))\n",
        "model.add(Conv2D(128, (6, 6), padding=\"same\", activation=\"relu\"))\n",
        "model.add(MaxPooling2D(pool_size=(2, 2)))\n",
        "model.add(Flatten())\n",
        "model.add(Dense(32, activation='relu'))\n",
        "model.add(BatchNormalization())\n",
        "model.add(Dropout(0.5))\n",
        "model.add(Dense(num_classes, activation='softmax'))\n",
        "\n",
        "model.compile(loss=keras.losses.categorical_crossentropy,\n",
        "              optimizer=keras.optimizers.Adam(),\n",
        "              metrics=['accuracy'])\n",
        "\n",
        "model.fit(x_train, y_train,\n",
        "          batch_size=batch_size,\n",
        "          epochs=epochs,\n",
        "          verbose=1,\n",
        "          validation_data=(x_test, y_test))\n",
        "\n",
        "score = model.evaluate(x_test, y_test, verbose=0)\n",
        "print('Test loss:', score[0])\n",
        "print('Test accuracy:', score[1])"
      ],
      "execution_count": 0,
      "outputs": [
        {
          "output_type": "stream",
          "text": [
            "WARNING:tensorflow:From /usr/local/lib/python3.6/dist-packages/keras/backend/tensorflow_backend.py:148: The name tf.placeholder_with_default is deprecated. Please use tf.compat.v1.placeholder_with_default instead.\n",
            "\n",
            "WARNING:tensorflow:From /usr/local/lib/python3.6/dist-packages/keras/backend/tensorflow_backend.py:3733: calling dropout (from tensorflow.python.ops.nn_ops) with keep_prob is deprecated and will be removed in a future version.\n",
            "Instructions for updating:\n",
            "Please use `rate` instead of `keep_prob`. Rate should be set to `rate = 1 - keep_prob`.\n",
            "WARNING:tensorflow:From /usr/local/lib/python3.6/dist-packages/keras/optimizers.py:793: The name tf.train.Optimizer is deprecated. Please use tf.compat.v1.train.Optimizer instead.\n",
            "\n",
            "WARNING:tensorflow:From /usr/local/lib/python3.6/dist-packages/keras/backend/tensorflow_backend.py:3576: The name tf.log is deprecated. Please use tf.math.log instead.\n",
            "\n",
            "WARNING:tensorflow:From /usr/local/lib/python3.6/dist-packages/tensorflow/python/ops/math_grad.py:1250: add_dispatch_support.<locals>.wrapper (from tensorflow.python.ops.array_ops) is deprecated and will be removed in a future version.\n",
            "Instructions for updating:\n",
            "Use tf.where in 2.0, which has the same broadcast rule as np.where\n",
            "Train on 60000 samples, validate on 10000 samples\n",
            "Epoch 1/12\n",
            "60000/60000 [==============================] - 1036s 17ms/step - loss: 0.2948 - acc: 0.9379 - val_loss: 0.0360 - val_acc: 0.9897\n",
            "Epoch 2/12\n",
            "60000/60000 [==============================] - 1038s 17ms/step - loss: 0.0904 - acc: 0.9798 - val_loss: 0.0347 - val_acc: 0.9887\n",
            "Epoch 3/12\n",
            "60000/60000 [==============================] - 1038s 17ms/step - loss: 0.0624 - acc: 0.9846 - val_loss: 0.0295 - val_acc: 0.9906\n",
            "Epoch 4/12\n",
            "60000/60000 [==============================] - 1030s 17ms/step - loss: 0.0448 - acc: 0.9890 - val_loss: 0.0222 - val_acc: 0.9942\n",
            "Epoch 5/12\n",
            "60000/60000 [==============================] - 1024s 17ms/step - loss: 0.0386 - acc: 0.9896 - val_loss: 0.0183 - val_acc: 0.9947\n",
            "Epoch 6/12\n",
            "60000/60000 [==============================] - 1016s 17ms/step - loss: 0.0311 - acc: 0.9917 - val_loss: 0.0195 - val_acc: 0.9935\n",
            "Epoch 7/12\n",
            "60000/60000 [==============================] - 1018s 17ms/step - loss: 0.0234 - acc: 0.9935 - val_loss: 0.0241 - val_acc: 0.9937\n",
            "Epoch 8/12\n",
            "60000/60000 [==============================] - 1015s 17ms/step - loss: 0.0206 - acc: 0.9942 - val_loss: 0.0247 - val_acc: 0.9936\n",
            "Epoch 9/12\n",
            "60000/60000 [==============================] - 1015s 17ms/step - loss: 0.0169 - acc: 0.9954 - val_loss: 0.0200 - val_acc: 0.9945\n",
            "Epoch 10/12\n",
            "60000/60000 [==============================] - 1022s 17ms/step - loss: 0.0151 - acc: 0.9956 - val_loss: 0.0289 - val_acc: 0.9930\n",
            "Epoch 11/12\n",
            "60000/60000 [==============================] - 1024s 17ms/step - loss: 0.0122 - acc: 0.9966 - val_loss: 0.0280 - val_acc: 0.9941\n",
            "Epoch 12/12\n",
            "60000/60000 [==============================] - 1021s 17ms/step - loss: 0.0108 - acc: 0.9968 - val_loss: 0.0285 - val_acc: 0.9924\n",
            "Test loss: 0.0285262536728947\n",
            "Test accuracy: 0.9924\n"
          ],
          "name": "stdout"
        }
      ]
    },
    {
      "cell_type": "markdown",
      "metadata": {
        "id": "mdeHZvToGxgB",
        "colab_type": "text"
      },
      "source": [
        "## Architecture 3 with 3 Convolution Layers 6x6 Kernal + Dropouts in Dense Layer and after convolution layers"
      ]
    },
    {
      "cell_type": "code",
      "metadata": {
        "id": "7NosToQyLGPj",
        "colab_type": "code",
        "outputId": "6100d779-7161-444c-e47f-e955d2888df8",
        "colab": {
          "base_uri": "https://localhost:8080/",
          "height": 592
        }
      },
      "source": [
        "from keras.layers.normalization import BatchNormalization\n",
        "model = Sequential()\n",
        "model.add(Conv2D(32, (6, 6), padding=\"same\", activation=\"relu\",input_shape=input_shape))\n",
        "model.add(Conv2D(64, (6, 6), padding=\"same\", activation=\"relu\"))\n",
        "model.add(MaxPooling2D(pool_size=(2, 2)))\n",
        "model.add(BatchNormalization())\n",
        "model.add(Dropout(0.5))\n",
        "model.add(Conv2D(128, (6, 6), padding=\"same\", activation=\"relu\"))\n",
        "model.add(MaxPooling2D(pool_size=(2, 2)))\n",
        "model.add(BatchNormalization())\n",
        "model.add(Dropout(0.5))\n",
        "model.add(Flatten())\n",
        "model.add(Dense(32, activation='relu'))\n",
        "model.add(BatchNormalization())\n",
        "model.add(Dropout(0.5))\n",
        "model.add(Dense(num_classes, activation='softmax'))\n",
        "\n",
        "model.compile(loss=keras.losses.categorical_crossentropy,\n",
        "              optimizer=keras.optimizers.Adam(),\n",
        "              metrics=['accuracy'])\n",
        "\n",
        "model.fit(x_train, y_train,\n",
        "          batch_size=batch_size,\n",
        "          epochs=epochs,\n",
        "          verbose=1,\n",
        "          validation_data=(x_test, y_test))\n",
        "\n",
        "score = model.evaluate(x_test, y_test, verbose=0)\n",
        "print('Test loss:', score[0])\n",
        "print('Test accuracy:', score[1])"
      ],
      "execution_count": 0,
      "outputs": [
        {
          "output_type": "stream",
          "text": [
            "WARNING:tensorflow:From /usr/local/lib/python3.6/dist-packages/keras/backend/tensorflow_backend.py:2041: The name tf.nn.fused_batch_norm is deprecated. Please use tf.compat.v1.nn.fused_batch_norm instead.\n",
            "\n",
            "WARNING:tensorflow:From /usr/local/lib/python3.6/dist-packages/keras/backend/tensorflow_backend.py:3733: calling dropout (from tensorflow.python.ops.nn_ops) with keep_prob is deprecated and will be removed in a future version.\n",
            "Instructions for updating:\n",
            "Please use `rate` instead of `keep_prob`. Rate should be set to `rate = 1 - keep_prob`.\n",
            "Train on 60000 samples, validate on 10000 samples\n",
            "Epoch 1/12\n",
            "60000/60000 [==============================] - 1124s 19ms/step - loss: 0.2982 - acc: 0.9199 - val_loss: 0.0484 - val_acc: 0.9847\n",
            "Epoch 2/12\n",
            "60000/60000 [==============================] - 1128s 19ms/step - loss: 0.0950 - acc: 0.9753 - val_loss: 0.0287 - val_acc: 0.9905\n",
            "Epoch 3/12\n",
            "60000/60000 [==============================] - 1132s 19ms/step - loss: 0.0701 - acc: 0.9811 - val_loss: 0.0291 - val_acc: 0.9905\n",
            "Epoch 4/12\n",
            "60000/60000 [==============================] - 1115s 19ms/step - loss: 0.0594 - acc: 0.9838 - val_loss: 0.0322 - val_acc: 0.9890\n",
            "Epoch 5/12\n",
            "60000/60000 [==============================] - 1129s 19ms/step - loss: 0.0524 - acc: 0.9855 - val_loss: 0.0305 - val_acc: 0.9902\n",
            "Epoch 6/12\n",
            "60000/60000 [==============================] - 1129s 19ms/step - loss: 0.0459 - acc: 0.9869 - val_loss: 0.0222 - val_acc: 0.9928\n",
            "Epoch 7/12\n",
            "60000/60000 [==============================] - 1141s 19ms/step - loss: 0.0428 - acc: 0.9878 - val_loss: 0.0216 - val_acc: 0.9924\n",
            "Epoch 8/12\n",
            "60000/60000 [==============================] - 1113s 19ms/step - loss: 0.0428 - acc: 0.9880 - val_loss: 0.0192 - val_acc: 0.9932\n",
            "Epoch 9/12\n",
            "60000/60000 [==============================] - 1115s 19ms/step - loss: 0.0371 - acc: 0.9890 - val_loss: 0.0164 - val_acc: 0.9940\n",
            "Epoch 10/12\n",
            "60000/60000 [==============================] - 1117s 19ms/step - loss: 0.0350 - acc: 0.9904 - val_loss: 0.0146 - val_acc: 0.9954\n",
            "Epoch 11/12\n",
            "60000/60000 [==============================] - 1126s 19ms/step - loss: 0.0336 - acc: 0.9905 - val_loss: 0.0173 - val_acc: 0.9943\n",
            "Epoch 12/12\n",
            "60000/60000 [==============================] - 1116s 19ms/step - loss: 0.0320 - acc: 0.9911 - val_loss: 0.0176 - val_acc: 0.9938\n",
            "Test loss: 0.017615831319102288\n",
            "Test accuracy: 0.9938\n"
          ],
          "name": "stdout"
        }
      ]
    },
    {
      "cell_type": "code",
      "metadata": {
        "id": "uXCSxODSHENm",
        "colab_type": "code",
        "outputId": "a8a627f7-6b1d-437a-84e6-6ae2d3eaa52c",
        "colab": {
          "base_uri": "https://localhost:8080/",
          "height": 156
        }
      },
      "source": [
        "from prettytable import PrettyTable\n",
        "    \n",
        "x = PrettyTable()\n",
        "\n",
        "x.field_names = [\"Architecture\", \"Kernals\", \"BatchNormalization\", \"Dropouts\", \"Loss\", \"Accuracy\"]\n",
        "\n",
        "x.add_row([\"3 Convolution Layers\",\"6x6\",\"No\",\"No\",\"0.0446\",\"0.9893\"])\n",
        "x.add_row([\"3 Convolution Layers\",\"6x6\",\"No\",\"Yes\",\"0.0269\",\"0.9943\"])\n",
        "x.add_row([\"3 Convolution Layers\",\"6x6\",\"Yes\",\"Yes\",\"0.0285\",\"0.9924\"])\n",
        "x.add_row([\"3 Convolution Layers\",\"6x6\",\"Yes\",\"Yes\",\"0.0176\",\"0.9938\"])\n",
        "print(x)\n"
      ],
      "execution_count": 0,
      "outputs": [
        {
          "output_type": "stream",
          "text": [
            "+----------------------+---------+--------------------+----------+--------+----------+\n",
            "|     Architecture     | Kernals | BatchNormalization | Dropouts |  Loss  | Accuracy |\n",
            "+----------------------+---------+--------------------+----------+--------+----------+\n",
            "| 3 Convolution Layers |   6x6   |         No         |    No    | 0.0446 |  0.9893  |\n",
            "| 3 Convolution Layers |   6x6   |         No         |   Yes    | 0.0269 |  0.9943  |\n",
            "| 3 Convolution Layers |   6x6   |        Yes         |   Yes    | 0.0285 |  0.9924  |\n",
            "| 3 Convolution Layers |   6x6   |        Yes         |   Yes    | 0.0176 |  0.9938  |\n",
            "+----------------------+---------+--------------------+----------+--------+----------+\n"
          ],
          "name": "stdout"
        }
      ]
    }
  ]
}