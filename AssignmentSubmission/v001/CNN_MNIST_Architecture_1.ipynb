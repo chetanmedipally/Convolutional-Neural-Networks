{
  "nbformat": 4,
  "nbformat_minor": 0,
  "metadata": {
    "colab": {
      "name": "CNN_MNIST_Architecture_1.ipynb",
      "provenance": [],
      "collapsed_sections": []
    },
    "kernelspec": {
      "display_name": "Python 3",
      "language": "python",
      "name": "python3"
    },
    "language_info": {
      "codemirror_mode": {
        "name": "ipython",
        "version": 3
      },
      "file_extension": ".py",
      "mimetype": "text/x-python",
      "name": "python",
      "nbconvert_exporter": "python",
      "pygments_lexer": "ipython3",
      "version": "3.7.3"
    }
  },
  "cells": [
    {
      "cell_type": "code",
      "metadata": {
        "id": "0e0UxGGGCXml",
        "colab_type": "code",
        "outputId": "cca16966-b759-48db-d5ae-17eefbba0791",
        "colab": {
          "base_uri": "https://localhost:8080/",
          "height": 35
        }
      },
      "source": [
        "from __future__ import print_function\n",
        "import keras\n",
        "from keras.datasets import mnist\n",
        "from keras.models import Sequential\n",
        "from keras.layers import Dense, Dropout, Flatten\n",
        "from keras.layers import Conv2D, MaxPooling2D\n",
        "from keras import backend as K"
      ],
      "execution_count": 0,
      "outputs": [
        {
          "output_type": "stream",
          "text": [
            "Using TensorFlow backend.\n"
          ],
          "name": "stderr"
        }
      ]
    },
    {
      "cell_type": "code",
      "metadata": {
        "id": "L7yDFeWwCXuU",
        "colab_type": "code",
        "colab": {}
      },
      "source": [
        "batch_size = 128\n",
        "num_classes = 10\n",
        "epochs = 12\n",
        "\n",
        "# input image dimensions\n",
        "img_rows, img_cols = 28, 28"
      ],
      "execution_count": 0,
      "outputs": []
    },
    {
      "cell_type": "code",
      "metadata": {
        "id": "0h5_OicwCX1T",
        "colab_type": "code",
        "outputId": "7d64dec1-dae9-446d-b4de-4d6ee339eb9c",
        "colab": {
          "base_uri": "https://localhost:8080/",
          "height": 52
        }
      },
      "source": [
        "# the data, split between train and test sets\n",
        "(x_train, y_train), (x_test, y_test) = mnist.load_data()\n",
        "\n",
        "if K.image_data_format() == 'channels_first':\n",
        "    x_train = x_train.reshape(x_train.shape[0], 1, img_rows, img_cols)\n",
        "    x_test = x_test.reshape(x_test.shape[0], 1, img_rows, img_cols)\n",
        "    input_shape = (1, img_rows, img_cols)\n",
        "else:\n",
        "    x_train = x_train.reshape(x_train.shape[0], img_rows, img_cols, 1)\n",
        "    x_test = x_test.reshape(x_test.shape[0], img_rows, img_cols, 1)\n",
        "    input_shape = (img_rows, img_cols, 1)"
      ],
      "execution_count": 0,
      "outputs": [
        {
          "output_type": "stream",
          "text": [
            "Downloading data from https://s3.amazonaws.com/img-datasets/mnist.npz\n",
            "11493376/11490434 [==============================] - 1s 0us/step\n"
          ],
          "name": "stdout"
        }
      ]
    },
    {
      "cell_type": "code",
      "metadata": {
        "id": "7KTuXhf6CX85",
        "colab_type": "code",
        "outputId": "5dc16588-7998-4848-ceef-fa9c056084b4",
        "colab": {
          "base_uri": "https://localhost:8080/",
          "height": 69
        }
      },
      "source": [
        "x_train = x_train.astype('float32')\n",
        "x_test = x_test.astype('float32')\n",
        "x_train /= 255\n",
        "x_test /= 255\n",
        "print('x_train shape:', x_train.shape)\n",
        "print(x_train.shape[0], 'train samples')\n",
        "print(x_test.shape[0], 'test samples')"
      ],
      "execution_count": 0,
      "outputs": [
        {
          "output_type": "stream",
          "text": [
            "x_train shape: (60000, 28, 28, 1)\n",
            "60000 train samples\n",
            "10000 test samples\n"
          ],
          "name": "stdout"
        }
      ]
    },
    {
      "cell_type": "code",
      "metadata": {
        "id": "m4hjprOyCYEs",
        "colab_type": "code",
        "colab": {}
      },
      "source": [
        "# convert class vectors to binary class matrices\n",
        "y_train = keras.utils.to_categorical(y_train, num_classes)\n",
        "y_test = keras.utils.to_categorical(y_test, num_classes)"
      ],
      "execution_count": 0,
      "outputs": []
    },
    {
      "cell_type": "markdown",
      "metadata": {
        "id": "craZZjqxC0eD",
        "colab_type": "text"
      },
      "source": [
        "## Architecture 1 with 2 Convolution Layers 4x4 Kernal"
      ]
    },
    {
      "cell_type": "code",
      "metadata": {
        "id": "3vLTcZHCCYLt",
        "colab_type": "code",
        "outputId": "5ae7830c-bd51-4de0-8255-1b76a55e8a55",
        "colab": {
          "base_uri": "https://localhost:8080/",
          "height": 176
        }
      },
      "source": [
        "model = Sequential()\n",
        "model.add(Conv2D(32, (4, 4), padding=\"same\", activation=\"relu\",input_shape=input_shape))\n",
        "model.add(Conv2D(64, (4, 4), padding=\"same\", activation=\"relu\"))\n",
        "model.add(MaxPooling2D(pool_size=(2, 2)))\n",
        "model.add(Flatten())\n",
        "model.add(Dense(128, activation='relu'))\n",
        "model.add(Dense(num_classes, activation='softmax'))"
      ],
      "execution_count": 0,
      "outputs": [
        {
          "output_type": "stream",
          "text": [
            "WARNING:tensorflow:From /usr/local/lib/python3.6/dist-packages/keras/backend/tensorflow_backend.py:66: The name tf.get_default_graph is deprecated. Please use tf.compat.v1.get_default_graph instead.\n",
            "\n",
            "WARNING:tensorflow:From /usr/local/lib/python3.6/dist-packages/keras/backend/tensorflow_backend.py:541: The name tf.placeholder is deprecated. Please use tf.compat.v1.placeholder instead.\n",
            "\n",
            "WARNING:tensorflow:From /usr/local/lib/python3.6/dist-packages/keras/backend/tensorflow_backend.py:4432: The name tf.random_uniform is deprecated. Please use tf.random.uniform instead.\n",
            "\n",
            "WARNING:tensorflow:From /usr/local/lib/python3.6/dist-packages/keras/backend/tensorflow_backend.py:4267: The name tf.nn.max_pool is deprecated. Please use tf.nn.max_pool2d instead.\n",
            "\n"
          ],
          "name": "stdout"
        }
      ]
    },
    {
      "cell_type": "code",
      "metadata": {
        "id": "Rsd1e-LDCYTb",
        "colab_type": "code",
        "outputId": "d2a9b0ec-b466-42a0-98e9-afd0ceb9c10c",
        "colab": {
          "base_uri": "https://localhost:8080/",
          "height": 468
        }
      },
      "source": [
        "model.compile(loss=keras.losses.categorical_crossentropy,\n",
        "              optimizer=keras.optimizers.Adam(),\n",
        "              metrics=['accuracy'])\n",
        "\n",
        "model.fit(x_train, y_train,\n",
        "          batch_size=batch_size,\n",
        "          epochs=epochs,\n",
        "          verbose=1,\n",
        "          validation_data=(x_test, y_test))"
      ],
      "execution_count": 0,
      "outputs": [
        {
          "output_type": "stream",
          "text": [
            "Train on 60000 samples, validate on 10000 samples\n",
            "Epoch 1/12\n",
            "60000/60000 [==============================] - 293s 5ms/step - loss: 0.0774 - acc: 0.9757 - val_loss: 0.0521 - val_acc: 0.9821\n",
            "Epoch 2/12\n",
            "60000/60000 [==============================] - 292s 5ms/step - loss: 0.0335 - acc: 0.9893 - val_loss: 0.0349 - val_acc: 0.9885\n",
            "Epoch 3/12\n",
            "60000/60000 [==============================] - 292s 5ms/step - loss: 0.0196 - acc: 0.9936 - val_loss: 0.0329 - val_acc: 0.9898\n",
            "Epoch 4/12\n",
            "60000/60000 [==============================] - 292s 5ms/step - loss: 0.0149 - acc: 0.9954 - val_loss: 0.0313 - val_acc: 0.9911\n",
            "Epoch 5/12\n",
            "60000/60000 [==============================] - 292s 5ms/step - loss: 0.0103 - acc: 0.9966 - val_loss: 0.0391 - val_acc: 0.9894\n",
            "Epoch 6/12\n",
            "60000/60000 [==============================] - 292s 5ms/step - loss: 0.0101 - acc: 0.9968 - val_loss: 0.0355 - val_acc: 0.9887\n",
            "Epoch 7/12\n",
            "60000/60000 [==============================] - 292s 5ms/step - loss: 0.0069 - acc: 0.9979 - val_loss: 0.0398 - val_acc: 0.9895\n",
            "Epoch 8/12\n",
            "60000/60000 [==============================] - 306s 5ms/step - loss: 0.0055 - acc: 0.9980 - val_loss: 0.0557 - val_acc: 0.9881\n",
            "Epoch 9/12\n",
            "60000/60000 [==============================] - 309s 5ms/step - loss: 0.0058 - acc: 0.9980 - val_loss: 0.0503 - val_acc: 0.9883\n",
            "Epoch 10/12\n",
            "60000/60000 [==============================] - 310s 5ms/step - loss: 0.0050 - acc: 0.9984 - val_loss: 0.0492 - val_acc: 0.9889\n",
            "Epoch 11/12\n",
            "60000/60000 [==============================] - 310s 5ms/step - loss: 0.0045 - acc: 0.9986 - val_loss: 0.0389 - val_acc: 0.9903\n",
            "Epoch 12/12\n",
            "60000/60000 [==============================] - 314s 5ms/step - loss: 0.0041 - acc: 0.9987 - val_loss: 0.0633 - val_acc: 0.9877\n"
          ],
          "name": "stdout"
        },
        {
          "output_type": "execute_result",
          "data": {
            "text/plain": [
              "<keras.callbacks.History at 0x7f537c408f28>"
            ]
          },
          "metadata": {
            "tags": []
          },
          "execution_count": 8
        }
      ]
    },
    {
      "cell_type": "code",
      "metadata": {
        "id": "o95X453bCoIy",
        "colab_type": "code",
        "outputId": "06bc128a-40cd-49db-d04b-d3e2baa5b1e3",
        "colab": {
          "base_uri": "https://localhost:8080/",
          "height": 52
        }
      },
      "source": [
        "score = model.evaluate(x_test, y_test, verbose=0)\n",
        "print('Test loss:', score[0])\n",
        "print('Test accuracy:', score[1])"
      ],
      "execution_count": 0,
      "outputs": [
        {
          "output_type": "stream",
          "text": [
            "Test loss: 0.06329311032819253\n",
            "Test accuracy: 0.9877\n"
          ],
          "name": "stdout"
        }
      ]
    },
    {
      "cell_type": "markdown",
      "metadata": {
        "id": "z0T8MihOCfYe",
        "colab_type": "text"
      },
      "source": [
        "## Architecture 1 with 2 Convolution Layers 4x4 Kernal + Dropouts in Dense Layer"
      ]
    },
    {
      "cell_type": "code",
      "metadata": {
        "id": "aPOer6zueEjm",
        "colab_type": "code",
        "outputId": "160b1d8f-0f2b-43ab-f190-14d38a33c60f",
        "colab": {
          "base_uri": "https://localhost:8080/",
          "height": 557
        }
      },
      "source": [
        "model = Sequential()\n",
        "model.add(Conv2D(32, (4, 4), padding=\"same\", activation=\"relu\",input_shape=input_shape))\n",
        "model.add(Conv2D(64, (4, 4), padding=\"same\", activation=\"relu\"))\n",
        "model.add(MaxPooling2D(pool_size=(2, 2)))\n",
        "model.add(Flatten())\n",
        "model.add(Dense(128, activation='relu'))\n",
        "model.add(Dropout(0.5))\n",
        "model.add(Dense(num_classes, activation='softmax'))\n",
        "\n",
        "model.compile(loss=keras.losses.categorical_crossentropy,\n",
        "              optimizer=keras.optimizers.Adam(),\n",
        "              metrics=['accuracy'])\n",
        "\n",
        "model.fit(x_train, y_train,\n",
        "          batch_size=batch_size,\n",
        "          epochs=epochs,\n",
        "          verbose=1,\n",
        "          validation_data=(x_test, y_test))\n",
        "\n",
        "score = model.evaluate(x_test, y_test, verbose=0)\n",
        "print('Test loss:', score[0])\n",
        "print('Test accuracy:', score[1])"
      ],
      "execution_count": 0,
      "outputs": [
        {
          "output_type": "stream",
          "text": [
            "WARNING:tensorflow:From /usr/local/lib/python3.6/dist-packages/keras/backend/tensorflow_backend.py:3733: calling dropout (from tensorflow.python.ops.nn_ops) with keep_prob is deprecated and will be removed in a future version.\n",
            "Instructions for updating:\n",
            "Please use `rate` instead of `keep_prob`. Rate should be set to `rate = 1 - keep_prob`.\n",
            "Train on 60000 samples, validate on 10000 samples\n",
            "Epoch 1/12\n",
            "60000/60000 [==============================] - 314s 5ms/step - loss: 0.2143 - acc: 0.9351 - val_loss: 0.0464 - val_acc: 0.9850\n",
            "Epoch 2/12\n",
            "60000/60000 [==============================] - 302s 5ms/step - loss: 0.0745 - acc: 0.9781 - val_loss: 0.0357 - val_acc: 0.9875\n",
            "Epoch 3/12\n",
            "60000/60000 [==============================] - 294s 5ms/step - loss: 0.0557 - acc: 0.9836 - val_loss: 0.0303 - val_acc: 0.9889\n",
            "Epoch 4/12\n",
            "60000/60000 [==============================] - 293s 5ms/step - loss: 0.0444 - acc: 0.9866 - val_loss: 0.0289 - val_acc: 0.9912\n",
            "Epoch 5/12\n",
            "60000/60000 [==============================] - 292s 5ms/step - loss: 0.0345 - acc: 0.9892 - val_loss: 0.0272 - val_acc: 0.9912\n",
            "Epoch 6/12\n",
            "60000/60000 [==============================] - 293s 5ms/step - loss: 0.0316 - acc: 0.9902 - val_loss: 0.0285 - val_acc: 0.9917\n",
            "Epoch 7/12\n",
            "60000/60000 [==============================] - 293s 5ms/step - loss: 0.0250 - acc: 0.9922 - val_loss: 0.0283 - val_acc: 0.9909\n",
            "Epoch 8/12\n",
            "60000/60000 [==============================] - 293s 5ms/step - loss: 0.0238 - acc: 0.9924 - val_loss: 0.0259 - val_acc: 0.9926\n",
            "Epoch 9/12\n",
            "60000/60000 [==============================] - 294s 5ms/step - loss: 0.0214 - acc: 0.9931 - val_loss: 0.0353 - val_acc: 0.9893\n",
            "Epoch 10/12\n",
            "60000/60000 [==============================] - 293s 5ms/step - loss: 0.0196 - acc: 0.9937 - val_loss: 0.0276 - val_acc: 0.9915\n",
            "Epoch 11/12\n",
            "60000/60000 [==============================] - 293s 5ms/step - loss: 0.0148 - acc: 0.9951 - val_loss: 0.0278 - val_acc: 0.9936\n",
            "Epoch 12/12\n",
            "60000/60000 [==============================] - 292s 5ms/step - loss: 0.0137 - acc: 0.9953 - val_loss: 0.0348 - val_acc: 0.9916\n",
            "Test loss: 0.034791623250741165\n",
            "Test accuracy: 0.9916\n"
          ],
          "name": "stdout"
        }
      ]
    },
    {
      "cell_type": "markdown",
      "metadata": {
        "id": "fhoUb8YrCxMm",
        "colab_type": "text"
      },
      "source": [
        "## Architecture 1 with 2 Convolution Layers 4x4 Kernal + Dropout + Batch Normalization in Dense Layer"
      ]
    },
    {
      "cell_type": "code",
      "metadata": {
        "id": "fGR4oqQls3Jw",
        "colab_type": "code",
        "outputId": "23d708ab-fe5f-4742-9116-3a309377fc11",
        "colab": {
          "base_uri": "https://localhost:8080/",
          "height": 485
        }
      },
      "source": [
        "from keras.layers.normalization import BatchNormalization\n",
        "model = Sequential()\n",
        "model.add(Conv2D(32, (4, 4), padding=\"same\", activation=\"relu\",input_shape=input_shape))\n",
        "model.add(Conv2D(64, (4, 4), padding=\"same\", activation=\"relu\"))\n",
        "model.add(MaxPooling2D(pool_size=(2, 2)))\n",
        "model.add(Flatten())\n",
        "model.add(Dense(128, activation='relu'))\n",
        "model.add(BatchNormalization())\n",
        "model.add(Dropout(0.5))\n",
        "model.add(Dense(num_classes, activation='softmax'))\n",
        "\n",
        "model.compile(loss=keras.losses.categorical_crossentropy,\n",
        "              optimizer=keras.optimizers.Adam(),\n",
        "              metrics=['accuracy'])\n",
        "\n",
        "model.fit(x_train, y_train,\n",
        "          batch_size=batch_size,\n",
        "          epochs=epochs,\n",
        "          verbose=1,\n",
        "          validation_data=(x_test, y_test))\n",
        "\n",
        "score = model.evaluate(x_test, y_test, verbose=0)\n",
        "print('Test loss:', score[0])\n",
        "print('Test accuracy:', score[1])"
      ],
      "execution_count": 0,
      "outputs": [
        {
          "output_type": "stream",
          "text": [
            "Train on 60000 samples, validate on 10000 samples\n",
            "Epoch 1/12\n",
            "60000/60000 [==============================] - 295s 5ms/step - loss: 0.1322 - acc: 0.9618 - val_loss: 0.0419 - val_acc: 0.9866\n",
            "Epoch 2/12\n",
            "60000/60000 [==============================] - 294s 5ms/step - loss: 0.0506 - acc: 0.9849 - val_loss: 0.0339 - val_acc: 0.9894\n",
            "Epoch 3/12\n",
            "60000/60000 [==============================] - 294s 5ms/step - loss: 0.0351 - acc: 0.9891 - val_loss: 0.0344 - val_acc: 0.9887\n",
            "Epoch 4/12\n",
            "60000/60000 [==============================] - 292s 5ms/step - loss: 0.0250 - acc: 0.9927 - val_loss: 0.0364 - val_acc: 0.9888\n",
            "Epoch 5/12\n",
            "60000/60000 [==============================] - 293s 5ms/step - loss: 0.0226 - acc: 0.9928 - val_loss: 0.0259 - val_acc: 0.9918\n",
            "Epoch 6/12\n",
            "60000/60000 [==============================] - 295s 5ms/step - loss: 0.0158 - acc: 0.9954 - val_loss: 0.0383 - val_acc: 0.9893\n",
            "Epoch 7/12\n",
            "60000/60000 [==============================] - 313s 5ms/step - loss: 0.0150 - acc: 0.9952 - val_loss: 0.0585 - val_acc: 0.9840\n",
            "Epoch 8/12\n",
            "60000/60000 [==============================] - 313s 5ms/step - loss: 0.0109 - acc: 0.9967 - val_loss: 0.0241 - val_acc: 0.9932\n",
            "Epoch 9/12\n",
            "60000/60000 [==============================] - 311s 5ms/step - loss: 0.0110 - acc: 0.9964 - val_loss: 0.0308 - val_acc: 0.9917\n",
            "Epoch 10/12\n",
            "60000/60000 [==============================] - 313s 5ms/step - loss: 0.0081 - acc: 0.9974 - val_loss: 0.0369 - val_acc: 0.9897\n",
            "Epoch 11/12\n",
            "60000/60000 [==============================] - 317s 5ms/step - loss: 0.0095 - acc: 0.9968 - val_loss: 0.0323 - val_acc: 0.9917\n",
            "Epoch 12/12\n",
            "60000/60000 [==============================] - 318s 5ms/step - loss: 0.0097 - acc: 0.9967 - val_loss: 0.0294 - val_acc: 0.9924\n",
            "Test loss: 0.029355274686330448\n",
            "Test accuracy: 0.9924\n"
          ],
          "name": "stdout"
        }
      ]
    },
    {
      "cell_type": "markdown",
      "metadata": {
        "id": "ymuDNQ5eC3Te",
        "colab_type": "text"
      },
      "source": [
        "## Architecture 1 with 2 Convolution Layers 4x4 Kernal + Dropouts in Dense Layer and after convolution layers"
      ]
    },
    {
      "cell_type": "code",
      "metadata": {
        "id": "WqvL-GDrAJ8R",
        "colab_type": "code",
        "outputId": "9401ed98-2283-4c79-a78a-823b2a837825",
        "colab": {
          "base_uri": "https://localhost:8080/",
          "height": 540
        }
      },
      "source": [
        "model = Sequential()\n",
        "model.add(Conv2D(32, (4, 4), padding=\"same\", activation=\"relu\",input_shape=input_shape))\n",
        "model.add(Conv2D(64, (4, 4), padding=\"same\", activation=\"relu\"))\n",
        "model.add(MaxPooling2D(pool_size=(2, 2)))\n",
        "model.add(BatchNormalization())\n",
        "model.add(Dropout(0.5))\n",
        "model.add(Flatten())\n",
        "model.add(Dense(128, activation='relu'))\n",
        "model.add(BatchNormalization())\n",
        "model.add(Dropout(0.5))\n",
        "model.add(Dense(num_classes, activation='softmax'))\n",
        "\n",
        "model.compile(loss=keras.losses.categorical_crossentropy,\n",
        "              optimizer=keras.optimizers.Adam(),\n",
        "              metrics=['accuracy'])\n",
        "\n",
        "model.fit(x_train, y_train,\n",
        "          batch_size=batch_size,\n",
        "          epochs=epochs,\n",
        "          verbose=1,\n",
        "          validation_data=(x_test, y_test))\n",
        "\n",
        "score = model.evaluate(x_test, y_test, verbose=0)\n",
        "print('Test loss:', score[0])\n",
        "print('Test accuracy:', score[1])"
      ],
      "execution_count": 0,
      "outputs": [
        {
          "output_type": "stream",
          "text": [
            "WARNING:tensorflow:From /usr/local/lib/python3.6/dist-packages/keras/backend/tensorflow_backend.py:2041: The name tf.nn.fused_batch_norm is deprecated. Please use tf.compat.v1.nn.fused_batch_norm instead.\n",
            "\n",
            "Train on 60000 samples, validate on 10000 samples\n",
            "Epoch 1/12\n",
            "60000/60000 [==============================] - 328s 5ms/step - loss: 0.1763 - acc: 0.9480 - val_loss: 0.0452 - val_acc: 0.9855\n",
            "Epoch 2/12\n",
            "60000/60000 [==============================] - 326s 5ms/step - loss: 0.0683 - acc: 0.9788 - val_loss: 0.0355 - val_acc: 0.9883\n",
            "Epoch 3/12\n",
            "60000/60000 [==============================] - 326s 5ms/step - loss: 0.0515 - acc: 0.9845 - val_loss: 0.0351 - val_acc: 0.9882\n",
            "Epoch 4/12\n",
            "60000/60000 [==============================] - 326s 5ms/step - loss: 0.0424 - acc: 0.9868 - val_loss: 0.0300 - val_acc: 0.9895\n",
            "Epoch 5/12\n",
            "60000/60000 [==============================] - 325s 5ms/step - loss: 0.0382 - acc: 0.9877 - val_loss: 0.0444 - val_acc: 0.9844\n",
            "Epoch 6/12\n",
            "60000/60000 [==============================] - 326s 5ms/step - loss: 0.0319 - acc: 0.9898 - val_loss: 0.0267 - val_acc: 0.9911\n",
            "Epoch 7/12\n",
            "60000/60000 [==============================] - 326s 5ms/step - loss: 0.0317 - acc: 0.9899 - val_loss: 0.0253 - val_acc: 0.9915\n",
            "Epoch 8/12\n",
            "60000/60000 [==============================] - 325s 5ms/step - loss: 0.0260 - acc: 0.9920 - val_loss: 0.0236 - val_acc: 0.9927\n",
            "Epoch 9/12\n",
            "60000/60000 [==============================] - 326s 5ms/step - loss: 0.0256 - acc: 0.9919 - val_loss: 0.0321 - val_acc: 0.9894\n",
            "Epoch 10/12\n",
            "60000/60000 [==============================] - 326s 5ms/step - loss: 0.0231 - acc: 0.9925 - val_loss: 0.0232 - val_acc: 0.9926\n",
            "Epoch 11/12\n",
            "60000/60000 [==============================] - 326s 5ms/step - loss: 0.0227 - acc: 0.9924 - val_loss: 0.0195 - val_acc: 0.9939\n",
            "Epoch 12/12\n",
            "60000/60000 [==============================] - 331s 6ms/step - loss: 0.0188 - acc: 0.9937 - val_loss: 0.0234 - val_acc: 0.9933\n",
            "Test loss: 0.02338287410159428\n",
            "Test accuracy: 0.9933\n"
          ],
          "name": "stdout"
        }
      ]
    },
    {
      "cell_type": "code",
      "metadata": {
        "id": "x3D5PTqnC-cS",
        "colab_type": "code",
        "colab": {}
      },
      "source": [
        "from prettytable import PrettyTable\n",
        "    \n",
        "x = PrettyTable()\n",
        "\n",
        "x.field_names = [\"Architecture\", \"Kernals\", \"BatchNormalization\", \"Dropouts\", \"Loss\", \"Accuracy\"]\n",
        "\n",
        "x.add_row([\"2 Convolution Layers\",\"4x4\",\"No\",\"No\",\"0.0633\",\"0.9877\"])\n",
        "x.add_row([\"2 Convolution Layers\",\"4x4\",\"No\",\"Yes\",\"0.0348\",\"0.9916\"])\n",
        "x.add_row([\"2 Convolution Layers\",\"4x4\",\"Yes\",\"Yes\",\"0.0294\",\"0.9924\"])\n",
        "x.add_row([\"2 Convolution Layers\",\"4x4\",\"Yes\",\"Yes\",\"0.0234\",\"0.9933\"])\n"
      ],
      "execution_count": 0,
      "outputs": []
    },
    {
      "cell_type": "code",
      "metadata": {
        "id": "Z2EhnnAjE5rh",
        "colab_type": "code",
        "outputId": "b362d6c0-aa1c-47e5-b2fd-391e58208522",
        "colab": {
          "base_uri": "https://localhost:8080/",
          "height": 156
        }
      },
      "source": [
        "print(x)"
      ],
      "execution_count": 0,
      "outputs": [
        {
          "output_type": "stream",
          "text": [
            "+----------------------+---------+--------------------+----------+--------+----------+\n",
            "|     Architecture     | Kernals | BatchNormalization | Dropouts |  Loss  | Accuracy |\n",
            "+----------------------+---------+--------------------+----------+--------+----------+\n",
            "| 2 Convolution Layers |   4x4   |         No         |    No    | 0.0633 |  0.9877  |\n",
            "| 2 Convolution Layers |   4x4   |         No         |   Yes    | 0.0348 |  0.9916  |\n",
            "| 2 Convolution Layers |   4x4   |        Yes         |   Yes    | 0.0294 |  0.9924  |\n",
            "| 2 Convolution Layers |   4x4   |        Yes         |   Yes    | 0.0234 |  0.9933  |\n",
            "+----------------------+---------+--------------------+----------+--------+----------+\n"
          ],
          "name": "stdout"
        }
      ]
    }
  ]
}